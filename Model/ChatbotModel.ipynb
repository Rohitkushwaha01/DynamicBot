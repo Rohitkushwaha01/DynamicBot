{
  "nbformat": 4,
  "nbformat_minor": 0,
  "metadata": {
    "colab": {
      "provenance": []
    },
    "kernelspec": {
      "name": "python3",
      "display_name": "Python 3"
    },
    "language_info": {
      "name": "python"
    }
  },
  "cells": [
    {
      "cell_type": "code",
      "execution_count": 64,
      "metadata": {
        "colab": {
          "base_uri": "https://localhost:8080/"
        },
        "id": "C6I5BAXseL31",
        "outputId": "0663553c-ad44-40b8-9408-4dab3116fced"
      },
      "outputs": [
        {
          "output_type": "stream",
          "name": "stderr",
          "text": [
            "[nltk_data] Downloading package punkt to /root/nltk_data...\n",
            "[nltk_data]   Package punkt is already up-to-date!\n",
            "[nltk_data] Downloading package wordnet to /root/nltk_data...\n",
            "[nltk_data]   Package wordnet is already up-to-date!\n"
          ]
        }
      ],
      "source": [
        "import nltk\n",
        "nltk.download('punkt')\n",
        "nltk.download('wordnet')\n",
        "from nltk.stem import WordNetLemmatizer\n",
        "lemmatizer = WordNetLemmatizer()\n",
        "import json\n",
        "import pickle\n",
        "\n",
        "import numpy as np\n",
        "from keras.models import Sequential\n",
        "from keras.layers import Dense, Activation, Dropout\n",
        "from keras.optimizers import SGD\n",
        "import random"
      ]
    },
    {
      "cell_type": "code",
      "source": [
        "#This line initializes an empty list named words.\n",
        "#It will be used to store unique words from the dataset.\n",
        "words=[]\n",
        "\n",
        "# this line initializes an empty list named classes.\n",
        "# It will be used to store unique classes or categories of intents from the dataset.\n",
        "categories = []\n",
        "\n",
        "#This line initializes an empty list named documents.\n",
        "#It will be used to store tuples where each tuple consists of a list of words (representing a pattern or sentence) and its corresponding class\n",
        "documents = []\n",
        "\n",
        "#This line initializes a list named ignore_words containing characters that should be ignored or treated separately.\n",
        "ignore_words = ['?', '!', '@', '#', '`', '$', '%', '^', '&', '*', '(', ')', '_', '+']"
      ],
      "metadata": {
        "id": "9c_BYHiPZWFn"
      },
      "execution_count": 65,
      "outputs": []
    },
    {
      "cell_type": "code",
      "source": [
        "data_file = open('/content/Chabotdataset.json').read()\n",
        "intents = json.loads(data_file)\n",
        "print(intents)"
      ],
      "metadata": {
        "colab": {
          "base_uri": "https://localhost:8080/"
        },
        "id": "BLplZURzZblo",
        "outputId": "e6c9937f-4b11-4500-bf0d-5c923a60def0"
      },
      "execution_count": 66,
      "outputs": [
        {
          "output_type": "stream",
          "name": "stdout",
          "text": [
            "{'intents': [{'tag': 'greeting', 'patterns': ['Hi there', 'How are you', 'Is anyone there?', 'Hey', 'Hola', 'Hello', 'Good day'], 'responses': ['Hello, thanks for asking', 'Good to see you again', 'Hi there, how can I help?'], 'context': ['']}, {'tag': 'goodbye', 'patterns': ['Bye', 'See you later', 'Goodbye', 'Nice chatting to you, bye', 'Till next time'], 'responses': ['See you!', 'Have a nice day', 'Bye! Come back again soon.'], 'context': ['']}, {'tag': 'thanks', 'patterns': ['Thanks', 'Thank you', \"That's helpful\", 'Awesome, thanks', 'Thanks for helping me'], 'responses': ['Happy to help!', 'Any time!', 'My pleasure'], 'context': ['']}, {'tag': 'noanswer', 'patterns': [], 'responses': [\"Sorry, can't understand you\", 'Please give me more info', 'Not sure I understand'], 'context': ['']}, {'tag': 'options', 'patterns': ['How you could help me?', 'What you can do?', 'What help you provide?', 'How you can be helpful?', 'What support is offered'], 'responses': ['I am like your virtual assistant, you can ask me any questions. If I know I will answer', 'I can answer your questions related to machine learning or any general anser. Come on try me', 'I can chat with you. Come on talk me buddy', 'We both can chat and make each other happy'], 'context': ['']}, {'tag': 'Concern', 'patterns': ['You okay?', 'How are you feeling today?', 'Are you feeling ill?', 'Do you need my help?', \"Hope you tell me what's bothering you.\", 'Is something bothering you?', \"I'm all ears if you got something to say\"], 'responses': [\"Thanks for asking but I'm fine\", \"Thank you but I'm doing okay \", \"I'm fine thankyou\", 'No thanks', \"No it's nothing really\", \"Yes I'm feeling a bit under the weather today\"], 'context': ['']}, {'tag': 'Appreciation', 'patterns': ['I like you', \"There's no one like you\", 'You are one in a million', 'You are so helpful!', 'You are amazing'], 'responses': ['Of course, you do, sweetheart', \"Tell me something I don't know\", 'I know', 'Obviously duh!'], 'context': ['']}, {'tag': 'Please', 'patterns': ['Please can I talk with you?', 'Please help me!', \"I'm so lost and sad\", \"I'm so sad today\", 'Can you do something to make me feel happy again?', 'Had a rough day today'], 'responses': ['Yes, shoot.', \"How may I assist my master? After all, I'm just a humble servant\", 'Awww..welcome to my life!', 'Get a life....Next!', 'Might I interest you in a sarcastic comment?'], 'context': ['']}, {'tag': 'Criticism', 'patterns': ['You are useless', 'You are a good-for-nothing chatbot', 'You are stupid', 'You are totally cringe', 'Why are you so rude?', 'Why you so mad?', 'You messed up', 'You made a mistake', 'You got it wrong'], 'responses': ['Sorry, please forgive me?', \"I swear I'm gonna get better at this!\", 'Thank you so much for correcting me'], 'context': ['']}, {'tag': 'Personal', 'patterns': ['What are your hobbies?', 'Do you like someone?', 'Do you have a boyfriend or girlfriend?', 'Do you like me?', 'What is your favourite movie?', \"What's your favourite song?\", 'What is your aim in life?'], 'responses': [\"I don't know...I'm a bot!\"], 'context': ['']}]}\n"
          ]
        }
      ]
    },
    {
      "cell_type": "code",
      "source": [
        "for intent in intents['intents']:\n",
        "\n",
        "  for pattern in intent['patterns']:\n",
        "    #take each pattern and tokenize it\n",
        "    w = nltk.word_tokenize(pattern)\n",
        "\n",
        "    #adding w into words list\n",
        "    words.extend(w)\n",
        "\n",
        "    #adding documents\n",
        "    documents.append((w,intent['tag']))\n",
        "\n",
        "    #adding categories to our category list\n",
        "    if intent['tag'] not in categories:\n",
        "      categories.append(intent['tag'])\n",
        "\n",
        "print(words)\n",
        "print(documents)\n",
        "print(categories)"
      ],
      "metadata": {
        "colab": {
          "base_uri": "https://localhost:8080/"
        },
        "id": "1Et59KX-dsUv",
        "outputId": "2dc6e2bd-5940-402a-9aea-f90d5893d8ae"
      },
      "execution_count": 67,
      "outputs": [
        {
          "output_type": "stream",
          "name": "stdout",
          "text": [
            "['Hi', 'there', 'How', 'are', 'you', 'Is', 'anyone', 'there', '?', 'Hey', 'Hola', 'Hello', 'Good', 'day', 'Bye', 'See', 'you', 'later', 'Goodbye', 'Nice', 'chatting', 'to', 'you', ',', 'bye', 'Till', 'next', 'time', 'Thanks', 'Thank', 'you', 'That', \"'s\", 'helpful', 'Awesome', ',', 'thanks', 'Thanks', 'for', 'helping', 'me', 'How', 'you', 'could', 'help', 'me', '?', 'What', 'you', 'can', 'do', '?', 'What', 'help', 'you', 'provide', '?', 'How', 'you', 'can', 'be', 'helpful', '?', 'What', 'support', 'is', 'offered', 'You', 'okay', '?', 'How', 'are', 'you', 'feeling', 'today', '?', 'Are', 'you', 'feeling', 'ill', '?', 'Do', 'you', 'need', 'my', 'help', '?', 'Hope', 'you', 'tell', 'me', 'what', \"'s\", 'bothering', 'you', '.', 'Is', 'something', 'bothering', 'you', '?', 'I', \"'m\", 'all', 'ears', 'if', 'you', 'got', 'something', 'to', 'say', 'I', 'like', 'you', 'There', \"'s\", 'no', 'one', 'like', 'you', 'You', 'are', 'one', 'in', 'a', 'million', 'You', 'are', 'so', 'helpful', '!', 'You', 'are', 'amazing', 'Please', 'can', 'I', 'talk', 'with', 'you', '?', 'Please', 'help', 'me', '!', 'I', \"'m\", 'so', 'lost', 'and', 'sad', 'I', \"'m\", 'so', 'sad', 'today', 'Can', 'you', 'do', 'something', 'to', 'make', 'me', 'feel', 'happy', 'again', '?', 'Had', 'a', 'rough', 'day', 'today', 'You', 'are', 'useless', 'You', 'are', 'a', 'good-for-nothing', 'chatbot', 'You', 'are', 'stupid', 'You', 'are', 'totally', 'cringe', 'Why', 'are', 'you', 'so', 'rude', '?', 'Why', 'you', 'so', 'mad', '?', 'You', 'messed', 'up', 'You', 'made', 'a', 'mistake', 'You', 'got', 'it', 'wrong', 'What', 'are', 'your', 'hobbies', '?', 'Do', 'you', 'like', 'someone', '?', 'Do', 'you', 'have', 'a', 'boyfriend', 'or', 'girlfriend', '?', 'Do', 'you', 'like', 'me', '?', 'What', 'is', 'your', 'favourite', 'movie', '?', 'What', \"'s\", 'your', 'favourite', 'song', '?', 'What', 'is', 'your', 'aim', 'in', 'life', '?']\n",
            "[(['Hi', 'there'], 'greeting'), (['How', 'are', 'you'], 'greeting'), (['Is', 'anyone', 'there', '?'], 'greeting'), (['Hey'], 'greeting'), (['Hola'], 'greeting'), (['Hello'], 'greeting'), (['Good', 'day'], 'greeting'), (['Bye'], 'goodbye'), (['See', 'you', 'later'], 'goodbye'), (['Goodbye'], 'goodbye'), (['Nice', 'chatting', 'to', 'you', ',', 'bye'], 'goodbye'), (['Till', 'next', 'time'], 'goodbye'), (['Thanks'], 'thanks'), (['Thank', 'you'], 'thanks'), (['That', \"'s\", 'helpful'], 'thanks'), (['Awesome', ',', 'thanks'], 'thanks'), (['Thanks', 'for', 'helping', 'me'], 'thanks'), (['How', 'you', 'could', 'help', 'me', '?'], 'options'), (['What', 'you', 'can', 'do', '?'], 'options'), (['What', 'help', 'you', 'provide', '?'], 'options'), (['How', 'you', 'can', 'be', 'helpful', '?'], 'options'), (['What', 'support', 'is', 'offered'], 'options'), (['You', 'okay', '?'], 'Concern'), (['How', 'are', 'you', 'feeling', 'today', '?'], 'Concern'), (['Are', 'you', 'feeling', 'ill', '?'], 'Concern'), (['Do', 'you', 'need', 'my', 'help', '?'], 'Concern'), (['Hope', 'you', 'tell', 'me', 'what', \"'s\", 'bothering', 'you', '.'], 'Concern'), (['Is', 'something', 'bothering', 'you', '?'], 'Concern'), (['I', \"'m\", 'all', 'ears', 'if', 'you', 'got', 'something', 'to', 'say'], 'Concern'), (['I', 'like', 'you'], 'Appreciation'), (['There', \"'s\", 'no', 'one', 'like', 'you'], 'Appreciation'), (['You', 'are', 'one', 'in', 'a', 'million'], 'Appreciation'), (['You', 'are', 'so', 'helpful', '!'], 'Appreciation'), (['You', 'are', 'amazing'], 'Appreciation'), (['Please', 'can', 'I', 'talk', 'with', 'you', '?'], 'Please'), (['Please', 'help', 'me', '!'], 'Please'), (['I', \"'m\", 'so', 'lost', 'and', 'sad'], 'Please'), (['I', \"'m\", 'so', 'sad', 'today'], 'Please'), (['Can', 'you', 'do', 'something', 'to', 'make', 'me', 'feel', 'happy', 'again', '?'], 'Please'), (['Had', 'a', 'rough', 'day', 'today'], 'Please'), (['You', 'are', 'useless'], 'Criticism'), (['You', 'are', 'a', 'good-for-nothing', 'chatbot'], 'Criticism'), (['You', 'are', 'stupid'], 'Criticism'), (['You', 'are', 'totally', 'cringe'], 'Criticism'), (['Why', 'are', 'you', 'so', 'rude', '?'], 'Criticism'), (['Why', 'you', 'so', 'mad', '?'], 'Criticism'), (['You', 'messed', 'up'], 'Criticism'), (['You', 'made', 'a', 'mistake'], 'Criticism'), (['You', 'got', 'it', 'wrong'], 'Criticism'), (['What', 'are', 'your', 'hobbies', '?'], 'Personal'), (['Do', 'you', 'like', 'someone', '?'], 'Personal'), (['Do', 'you', 'have', 'a', 'boyfriend', 'or', 'girlfriend', '?'], 'Personal'), (['Do', 'you', 'like', 'me', '?'], 'Personal'), (['What', 'is', 'your', 'favourite', 'movie', '?'], 'Personal'), (['What', \"'s\", 'your', 'favourite', 'song', '?'], 'Personal'), (['What', 'is', 'your', 'aim', 'in', 'life', '?'], 'Personal')]\n",
            "['greeting', 'goodbye', 'thanks', 'options', 'Concern', 'Appreciation', 'Please', 'Criticism', 'Personal']\n"
          ]
        }
      ]
    },
    {
      "cell_type": "code",
      "source": [
        "words = [lemmatizer.lemmatize(w.lower()) for w in words if w not in ignore_words]\n",
        "print(words)"
      ],
      "metadata": {
        "colab": {
          "base_uri": "https://localhost:8080/"
        },
        "id": "ovSach7ggktX",
        "outputId": "884bd361-fb1e-46df-b6ff-2e12791645a8"
      },
      "execution_count": 68,
      "outputs": [
        {
          "output_type": "stream",
          "name": "stdout",
          "text": [
            "['hi', 'there', 'how', 'are', 'you', 'is', 'anyone', 'there', 'hey', 'hola', 'hello', 'good', 'day', 'bye', 'see', 'you', 'later', 'goodbye', 'nice', 'chatting', 'to', 'you', ',', 'bye', 'till', 'next', 'time', 'thanks', 'thank', 'you', 'that', \"'s\", 'helpful', 'awesome', ',', 'thanks', 'thanks', 'for', 'helping', 'me', 'how', 'you', 'could', 'help', 'me', 'what', 'you', 'can', 'do', 'what', 'help', 'you', 'provide', 'how', 'you', 'can', 'be', 'helpful', 'what', 'support', 'is', 'offered', 'you', 'okay', 'how', 'are', 'you', 'feeling', 'today', 'are', 'you', 'feeling', 'ill', 'do', 'you', 'need', 'my', 'help', 'hope', 'you', 'tell', 'me', 'what', \"'s\", 'bothering', 'you', '.', 'is', 'something', 'bothering', 'you', 'i', \"'m\", 'all', 'ear', 'if', 'you', 'got', 'something', 'to', 'say', 'i', 'like', 'you', 'there', \"'s\", 'no', 'one', 'like', 'you', 'you', 'are', 'one', 'in', 'a', 'million', 'you', 'are', 'so', 'helpful', 'you', 'are', 'amazing', 'please', 'can', 'i', 'talk', 'with', 'you', 'please', 'help', 'me', 'i', \"'m\", 'so', 'lost', 'and', 'sad', 'i', \"'m\", 'so', 'sad', 'today', 'can', 'you', 'do', 'something', 'to', 'make', 'me', 'feel', 'happy', 'again', 'had', 'a', 'rough', 'day', 'today', 'you', 'are', 'useless', 'you', 'are', 'a', 'good-for-nothing', 'chatbot', 'you', 'are', 'stupid', 'you', 'are', 'totally', 'cringe', 'why', 'are', 'you', 'so', 'rude', 'why', 'you', 'so', 'mad', 'you', 'messed', 'up', 'you', 'made', 'a', 'mistake', 'you', 'got', 'it', 'wrong', 'what', 'are', 'your', 'hobby', 'do', 'you', 'like', 'someone', 'do', 'you', 'have', 'a', 'boyfriend', 'or', 'girlfriend', 'do', 'you', 'like', 'me', 'what', 'is', 'your', 'favourite', 'movie', 'what', \"'s\", 'your', 'favourite', 'song', 'what', 'is', 'your', 'aim', 'in', 'life']\n"
          ]
        }
      ]
    },
    {
      "cell_type": "code",
      "source": [
        "# list of lemmatized words converted to a set to ensure uniqueness and then back to a sorted list.\n",
        "# This list now contains all unique lemmatized words.\n",
        "words = sorted(list(set(words)))\n",
        "print(words)"
      ],
      "metadata": {
        "colab": {
          "base_uri": "https://localhost:8080/"
        },
        "id": "UdngBnMkhQ21",
        "outputId": "676db223-09f7-4da4-bc2b-27042578a5d1"
      },
      "execution_count": 69,
      "outputs": [
        {
          "output_type": "stream",
          "name": "stdout",
          "text": [
            "[\"'m\", \"'s\", ',', '.', 'a', 'again', 'aim', 'all', 'amazing', 'and', 'anyone', 'are', 'awesome', 'be', 'bothering', 'boyfriend', 'bye', 'can', 'chatbot', 'chatting', 'could', 'cringe', 'day', 'do', 'ear', 'favourite', 'feel', 'feeling', 'for', 'girlfriend', 'good', 'good-for-nothing', 'goodbye', 'got', 'had', 'happy', 'have', 'hello', 'help', 'helpful', 'helping', 'hey', 'hi', 'hobby', 'hola', 'hope', 'how', 'i', 'if', 'ill', 'in', 'is', 'it', 'later', 'life', 'like', 'lost', 'mad', 'made', 'make', 'me', 'messed', 'million', 'mistake', 'movie', 'my', 'need', 'next', 'nice', 'no', 'offered', 'okay', 'one', 'or', 'please', 'provide', 'rough', 'rude', 'sad', 'say', 'see', 'so', 'someone', 'something', 'song', 'stupid', 'support', 'talk', 'tell', 'thank', 'thanks', 'that', 'there', 'till', 'time', 'to', 'today', 'totally', 'up', 'useless', 'what', 'why', 'with', 'wrong', 'you', 'your']\n"
          ]
        }
      ]
    },
    {
      "cell_type": "code",
      "source": [
        "# Similar to the words, the list of classes is converted to a set for uniqueness and then back to a sorted list.\n",
        "categories = sorted(list(set(categories)))\n",
        "print(categories)"
      ],
      "metadata": {
        "colab": {
          "base_uri": "https://localhost:8080/"
        },
        "id": "uJknydLSh4JH",
        "outputId": "a8df782f-4c13-4772-ce95-f7acd6fa05e8"
      },
      "execution_count": 70,
      "outputs": [
        {
          "output_type": "stream",
          "name": "stdout",
          "text": [
            "['Appreciation', 'Concern', 'Criticism', 'Personal', 'Please', 'goodbye', 'greeting', 'options', 'thanks']\n"
          ]
        }
      ]
    },
    {
      "cell_type": "code",
      "source": [
        "pickle.dump(words,open('words.pkl','wb'))\n",
        "pickle.dump(categories,open('categories.pkl','wb'))"
      ],
      "metadata": {
        "id": "1z_geIqUj_u4"
      },
      "execution_count": 71,
      "outputs": []
    },
    {
      "cell_type": "code",
      "source": [
        "# initializing training data\n",
        "training = []\n",
        "output_empty = [0] * len(categories)\n",
        "for doc in documents:\n",
        "    # initializing bag of words\n",
        "    bag = []\n",
        "    # list of tokenized words for the pattern\n",
        "    pattern_words = doc[0]\n",
        "    # lemmatize each word - create base word, in attempt to represent related words\n",
        "    pattern_words = [lemmatizer.lemmatize(word.lower()) for word in pattern_words]\n",
        "    # create our bag of words array with 1, if word match found in current pattern\n",
        "    for w in words:\n",
        "        bag.append(1) if w in pattern_words else bag.append(0)\n",
        "\n",
        "    # output is a '0' for each tag and '1' for current tag (for each pattern)\n",
        "    output_row = list(output_empty)\n",
        "    output_row[categories.index(doc[1])] = 1\n",
        "\n",
        "    training.append([bag, output_row])\n",
        "# shuffle our features and turn into np.array\n",
        "random.shuffle(training)\n",
        "training = np.array(training)\n",
        "# create train and test lists. X - patterns, Y - intents\n",
        "train_x = list(training[:,0])\n",
        "train_y = list(training[:,1])\n",
        "print(\"Training data created\")"
      ],
      "metadata": {
        "colab": {
          "base_uri": "https://localhost:8080/"
        },
        "id": "y2kNkjK9kD82",
        "outputId": "84936180-8501-4412-edfb-2692f7ccf63d"
      },
      "execution_count": 72,
      "outputs": [
        {
          "output_type": "stream",
          "name": "stdout",
          "text": [
            "Training data created\n"
          ]
        },
        {
          "output_type": "stream",
          "name": "stderr",
          "text": [
            "<ipython-input-72-964d835a8f2e>:22: VisibleDeprecationWarning: Creating an ndarray from ragged nested sequences (which is a list-or-tuple of lists-or-tuples-or ndarrays with different lengths or shapes) is deprecated. If you meant to do this, you must specify 'dtype=object' when creating the ndarray.\n",
            "  training = np.array(training)\n"
          ]
        }
      ]
    },
    {
      "cell_type": "code",
      "source": [
        "# Create model - 3 layers. First layer 128 neurons, second layer 64 neurons and 3rd output layer contains number of neurons\n",
        "# equal to number of intents to predict output intent with softmax\n",
        "model = Sequential()\n",
        "model.add(Dense(128, input_shape=(len(train_x[0]),), activation='relu'))\n",
        "model.add(Dropout(0.5))\n",
        "model.add(Dense(64, activation='relu'))\n",
        "model.add(Dropout(0.5))\n",
        "model.add(Dense(len(train_y[0]), activation='softmax'))\n",
        "\n",
        "# Compile model. Stochastic gradient descent with Nesterov accelerated gradient gives good results for this model\n",
        "sgd = SGD(learning_rate=0.01, momentum=0.9, nesterov=True)\n",
        "model.compile(loss='categorical_crossentropy', optimizer=sgd, metrics=['accuracy'])\n",
        "\n",
        "#fitting and saving the model\n",
        "hist = model.fit(np.array(train_x), np.array(train_y), epochs=200, batch_size=5, verbose=1)\n",
        "model.save('chatbot_model.h5', hist)\n",
        "\n",
        "print(\"model created\")"
      ],
      "metadata": {
        "colab": {
          "base_uri": "https://localhost:8080/"
        },
        "id": "LCLv_TIMkLVn",
        "outputId": "95775378-5019-4368-db5e-30a45b24caeb"
      },
      "execution_count": 73,
      "outputs": [
        {
          "output_type": "stream",
          "name": "stdout",
          "text": [
            "Epoch 1/200\n",
            "12/12 [==============================] - 2s 8ms/step - loss: 2.2665 - accuracy: 0.0714\n",
            "Epoch 2/200\n",
            "12/12 [==============================] - 0s 7ms/step - loss: 2.1598 - accuracy: 0.1250\n",
            "Epoch 3/200\n",
            "12/12 [==============================] - 0s 6ms/step - loss: 2.0884 - accuracy: 0.2500\n",
            "Epoch 4/200\n",
            "12/12 [==============================] - 0s 7ms/step - loss: 2.0794 - accuracy: 0.1964\n",
            "Epoch 5/200\n",
            "12/12 [==============================] - 0s 8ms/step - loss: 2.0065 - accuracy: 0.2321\n",
            "Epoch 6/200\n",
            "12/12 [==============================] - 0s 6ms/step - loss: 1.9468 - accuracy: 0.3036\n",
            "Epoch 7/200\n",
            "12/12 [==============================] - 0s 7ms/step - loss: 1.7827 - accuracy: 0.4286\n",
            "Epoch 8/200\n",
            "12/12 [==============================] - 0s 11ms/step - loss: 1.8104 - accuracy: 0.3571\n",
            "Epoch 9/200\n",
            "12/12 [==============================] - 0s 11ms/step - loss: 1.6937 - accuracy: 0.4107\n",
            "Epoch 10/200\n",
            "12/12 [==============================] - 0s 14ms/step - loss: 1.5926 - accuracy: 0.5000\n",
            "Epoch 11/200\n",
            "12/12 [==============================] - 0s 9ms/step - loss: 1.5854 - accuracy: 0.5000\n",
            "Epoch 12/200\n",
            "12/12 [==============================] - 0s 9ms/step - loss: 1.3001 - accuracy: 0.6786\n",
            "Epoch 13/200\n",
            "12/12 [==============================] - 0s 10ms/step - loss: 1.2766 - accuracy: 0.5893\n",
            "Epoch 14/200\n",
            "12/12 [==============================] - 0s 8ms/step - loss: 1.1895 - accuracy: 0.5893\n",
            "Epoch 15/200\n",
            "12/12 [==============================] - 0s 12ms/step - loss: 1.0934 - accuracy: 0.6964\n",
            "Epoch 16/200\n",
            "12/12 [==============================] - 0s 6ms/step - loss: 1.1117 - accuracy: 0.6250\n",
            "Epoch 17/200\n",
            "12/12 [==============================] - 0s 7ms/step - loss: 1.1598 - accuracy: 0.6071\n",
            "Epoch 18/200\n",
            "12/12 [==============================] - 0s 8ms/step - loss: 0.9803 - accuracy: 0.7857\n",
            "Epoch 19/200\n",
            "12/12 [==============================] - 0s 8ms/step - loss: 0.8214 - accuracy: 0.7679\n",
            "Epoch 20/200\n",
            "12/12 [==============================] - 0s 7ms/step - loss: 1.0435 - accuracy: 0.6607\n",
            "Epoch 21/200\n",
            "12/12 [==============================] - 0s 7ms/step - loss: 0.7073 - accuracy: 0.7679\n",
            "Epoch 22/200\n",
            "12/12 [==============================] - 0s 8ms/step - loss: 0.6302 - accuracy: 0.8214\n",
            "Epoch 23/200\n",
            "12/12 [==============================] - 0s 7ms/step - loss: 0.6499 - accuracy: 0.8393\n",
            "Epoch 24/200\n",
            "12/12 [==============================] - 0s 4ms/step - loss: 0.5871 - accuracy: 0.8393\n",
            "Epoch 25/200\n",
            "12/12 [==============================] - 0s 7ms/step - loss: 0.6959 - accuracy: 0.8393\n",
            "Epoch 26/200\n",
            "12/12 [==============================] - 0s 8ms/step - loss: 0.6212 - accuracy: 0.8393\n",
            "Epoch 27/200\n",
            "12/12 [==============================] - 0s 10ms/step - loss: 0.6597 - accuracy: 0.7857\n",
            "Epoch 28/200\n",
            "12/12 [==============================] - 0s 7ms/step - loss: 0.4787 - accuracy: 0.8393\n",
            "Epoch 29/200\n",
            "12/12 [==============================] - 0s 11ms/step - loss: 0.6625 - accuracy: 0.8214\n",
            "Epoch 30/200\n",
            "12/12 [==============================] - 0s 10ms/step - loss: 0.2795 - accuracy: 0.9286\n",
            "Epoch 31/200\n",
            "12/12 [==============================] - 0s 13ms/step - loss: 0.3828 - accuracy: 0.8750\n",
            "Epoch 32/200\n",
            "12/12 [==============================] - 0s 7ms/step - loss: 0.5107 - accuracy: 0.8571\n",
            "Epoch 33/200\n",
            "12/12 [==============================] - 0s 8ms/step - loss: 0.4259 - accuracy: 0.8929\n",
            "Epoch 34/200\n",
            "12/12 [==============================] - 0s 9ms/step - loss: 0.3016 - accuracy: 0.9286\n",
            "Epoch 35/200\n",
            "12/12 [==============================] - 0s 11ms/step - loss: 0.1869 - accuracy: 0.9643\n",
            "Epoch 36/200\n",
            "12/12 [==============================] - 0s 9ms/step - loss: 0.2990 - accuracy: 0.9464\n",
            "Epoch 37/200\n",
            "12/12 [==============================] - 0s 5ms/step - loss: 0.2833 - accuracy: 0.9107\n",
            "Epoch 38/200\n",
            "12/12 [==============================] - 0s 10ms/step - loss: 0.1991 - accuracy: 0.9286\n",
            "Epoch 39/200\n",
            "12/12 [==============================] - 0s 8ms/step - loss: 0.2931 - accuracy: 0.9107\n",
            "Epoch 40/200\n",
            "12/12 [==============================] - 0s 9ms/step - loss: 0.3771 - accuracy: 0.8214\n",
            "Epoch 41/200\n",
            "12/12 [==============================] - 0s 7ms/step - loss: 0.2018 - accuracy: 0.9821\n",
            "Epoch 42/200\n",
            "12/12 [==============================] - 0s 7ms/step - loss: 0.2965 - accuracy: 0.8750\n",
            "Epoch 43/200\n",
            "12/12 [==============================] - 0s 6ms/step - loss: 0.2043 - accuracy: 0.9464\n",
            "Epoch 44/200\n",
            "12/12 [==============================] - 0s 9ms/step - loss: 0.1646 - accuracy: 0.9821\n",
            "Epoch 45/200\n",
            "12/12 [==============================] - 0s 19ms/step - loss: 0.2007 - accuracy: 0.9464\n",
            "Epoch 46/200\n",
            "12/12 [==============================] - 0s 21ms/step - loss: 0.1316 - accuracy: 0.9643\n",
            "Epoch 47/200\n",
            "12/12 [==============================] - 0s 9ms/step - loss: 0.2349 - accuracy: 0.9286\n",
            "Epoch 48/200\n",
            "12/12 [==============================] - 0s 13ms/step - loss: 0.1055 - accuracy: 1.0000\n",
            "Epoch 49/200\n",
            "12/12 [==============================] - 0s 9ms/step - loss: 0.1180 - accuracy: 1.0000\n",
            "Epoch 50/200\n",
            "12/12 [==============================] - 0s 4ms/step - loss: 0.1253 - accuracy: 0.9821\n",
            "Epoch 51/200\n",
            "12/12 [==============================] - 0s 11ms/step - loss: 0.1305 - accuracy: 0.9643\n",
            "Epoch 52/200\n",
            "12/12 [==============================] - 0s 16ms/step - loss: 0.1762 - accuracy: 0.9286\n",
            "Epoch 53/200\n",
            "12/12 [==============================] - 0s 9ms/step - loss: 0.1901 - accuracy: 0.9821\n",
            "Epoch 54/200\n",
            "12/12 [==============================] - 0s 5ms/step - loss: 0.2367 - accuracy: 0.9286\n",
            "Epoch 55/200\n",
            "12/12 [==============================] - 0s 5ms/step - loss: 0.1456 - accuracy: 0.9643\n",
            "Epoch 56/200\n",
            "12/12 [==============================] - 0s 7ms/step - loss: 0.1129 - accuracy: 0.9821\n",
            "Epoch 57/200\n",
            "12/12 [==============================] - 0s 4ms/step - loss: 0.1421 - accuracy: 0.9464\n",
            "Epoch 58/200\n",
            "12/12 [==============================] - 0s 3ms/step - loss: 0.2168 - accuracy: 0.9107\n",
            "Epoch 59/200\n",
            "12/12 [==============================] - 0s 4ms/step - loss: 0.1263 - accuracy: 0.9643\n",
            "Epoch 60/200\n",
            "12/12 [==============================] - 0s 3ms/step - loss: 0.0959 - accuracy: 0.9821\n",
            "Epoch 61/200\n",
            "12/12 [==============================] - 0s 3ms/step - loss: 0.1758 - accuracy: 0.9286\n",
            "Epoch 62/200\n",
            "12/12 [==============================] - 0s 4ms/step - loss: 0.0686 - accuracy: 0.9821\n",
            "Epoch 63/200\n",
            "12/12 [==============================] - 0s 8ms/step - loss: 0.0487 - accuracy: 1.0000\n",
            "Epoch 64/200\n",
            "12/12 [==============================] - 0s 7ms/step - loss: 0.0900 - accuracy: 1.0000\n",
            "Epoch 65/200\n",
            "12/12 [==============================] - 0s 5ms/step - loss: 0.0921 - accuracy: 0.9821\n",
            "Epoch 66/200\n",
            "12/12 [==============================] - 0s 7ms/step - loss: 0.1820 - accuracy: 0.9643\n",
            "Epoch 67/200\n",
            "12/12 [==============================] - 0s 7ms/step - loss: 0.0684 - accuracy: 0.9821\n",
            "Epoch 68/200\n",
            "12/12 [==============================] - 0s 4ms/step - loss: 0.1434 - accuracy: 0.9821\n",
            "Epoch 69/200\n",
            "12/12 [==============================] - 0s 4ms/step - loss: 0.0765 - accuracy: 1.0000\n",
            "Epoch 70/200\n",
            "12/12 [==============================] - 0s 4ms/step - loss: 0.0769 - accuracy: 1.0000\n",
            "Epoch 71/200\n",
            "12/12 [==============================] - 0s 9ms/step - loss: 0.0987 - accuracy: 1.0000\n",
            "Epoch 72/200\n",
            "12/12 [==============================] - 0s 5ms/step - loss: 0.1030 - accuracy: 0.9643\n",
            "Epoch 73/200\n",
            "12/12 [==============================] - 0s 6ms/step - loss: 0.0700 - accuracy: 1.0000\n",
            "Epoch 74/200\n",
            "12/12 [==============================] - 0s 7ms/step - loss: 0.1314 - accuracy: 0.9643\n",
            "Epoch 75/200\n",
            "12/12 [==============================] - 0s 4ms/step - loss: 0.0525 - accuracy: 1.0000\n",
            "Epoch 76/200\n",
            "12/12 [==============================] - 0s 4ms/step - loss: 0.0587 - accuracy: 1.0000\n",
            "Epoch 77/200\n",
            "12/12 [==============================] - 0s 4ms/step - loss: 0.1418 - accuracy: 0.9643\n",
            "Epoch 78/200\n",
            "12/12 [==============================] - 0s 4ms/step - loss: 0.0395 - accuracy: 1.0000\n",
            "Epoch 79/200\n",
            "12/12 [==============================] - 0s 4ms/step - loss: 0.1096 - accuracy: 0.9821\n",
            "Epoch 80/200\n",
            "12/12 [==============================] - 0s 8ms/step - loss: 0.1359 - accuracy: 0.9643\n",
            "Epoch 81/200\n",
            "12/12 [==============================] - 0s 5ms/step - loss: 0.1032 - accuracy: 0.9821\n",
            "Epoch 82/200\n",
            "12/12 [==============================] - 0s 4ms/step - loss: 0.0614 - accuracy: 1.0000\n",
            "Epoch 83/200\n",
            "12/12 [==============================] - 0s 9ms/step - loss: 0.0954 - accuracy: 0.9821\n",
            "Epoch 84/200\n",
            "12/12 [==============================] - 0s 5ms/step - loss: 0.1263 - accuracy: 0.9464\n",
            "Epoch 85/200\n",
            "12/12 [==============================] - 0s 6ms/step - loss: 0.0665 - accuracy: 1.0000\n",
            "Epoch 86/200\n",
            "12/12 [==============================] - 0s 5ms/step - loss: 0.0375 - accuracy: 0.9821\n",
            "Epoch 87/200\n",
            "12/12 [==============================] - 0s 3ms/step - loss: 0.0574 - accuracy: 0.9821\n",
            "Epoch 88/200\n",
            "12/12 [==============================] - 0s 3ms/step - loss: 0.0861 - accuracy: 0.9821\n",
            "Epoch 89/200\n",
            "12/12 [==============================] - 0s 3ms/step - loss: 0.0732 - accuracy: 0.9821\n",
            "Epoch 90/200\n",
            "12/12 [==============================] - 0s 7ms/step - loss: 0.1059 - accuracy: 0.9643\n",
            "Epoch 91/200\n",
            "12/12 [==============================] - 0s 8ms/step - loss: 0.0580 - accuracy: 0.9821\n",
            "Epoch 92/200\n",
            "12/12 [==============================] - 0s 6ms/step - loss: 0.0429 - accuracy: 0.9821\n",
            "Epoch 93/200\n",
            "12/12 [==============================] - 0s 12ms/step - loss: 0.0673 - accuracy: 0.9643\n",
            "Epoch 94/200\n",
            "12/12 [==============================] - 0s 4ms/step - loss: 0.1002 - accuracy: 0.9643\n",
            "Epoch 95/200\n",
            "12/12 [==============================] - 0s 4ms/step - loss: 0.0574 - accuracy: 0.9821\n",
            "Epoch 96/200\n",
            "12/12 [==============================] - 0s 4ms/step - loss: 0.0514 - accuracy: 1.0000\n",
            "Epoch 97/200\n",
            "12/12 [==============================] - 0s 4ms/step - loss: 0.0701 - accuracy: 0.9821\n",
            "Epoch 98/200\n",
            "12/12 [==============================] - 0s 4ms/step - loss: 0.1161 - accuracy: 0.9643\n",
            "Epoch 99/200\n",
            "12/12 [==============================] - 0s 5ms/step - loss: 0.0733 - accuracy: 0.9821\n",
            "Epoch 100/200\n",
            "12/12 [==============================] - 0s 4ms/step - loss: 0.0434 - accuracy: 0.9821\n",
            "Epoch 101/200\n",
            "12/12 [==============================] - 0s 9ms/step - loss: 0.1366 - accuracy: 0.9464\n",
            "Epoch 102/200\n",
            "12/12 [==============================] - 0s 6ms/step - loss: 0.0917 - accuracy: 1.0000\n",
            "Epoch 103/200\n",
            "12/12 [==============================] - 0s 4ms/step - loss: 0.0710 - accuracy: 0.9821\n",
            "Epoch 104/200\n",
            "12/12 [==============================] - 0s 3ms/step - loss: 0.0412 - accuracy: 1.0000\n",
            "Epoch 105/200\n",
            "12/12 [==============================] - 0s 8ms/step - loss: 0.0265 - accuracy: 1.0000\n",
            "Epoch 106/200\n",
            "12/12 [==============================] - 0s 6ms/step - loss: 0.0736 - accuracy: 0.9821\n",
            "Epoch 107/200\n",
            "12/12 [==============================] - 0s 4ms/step - loss: 0.0739 - accuracy: 0.9643\n",
            "Epoch 108/200\n",
            "12/12 [==============================] - 0s 6ms/step - loss: 0.1070 - accuracy: 0.9643\n",
            "Epoch 109/200\n",
            "12/12 [==============================] - 0s 3ms/step - loss: 0.0705 - accuracy: 1.0000\n",
            "Epoch 110/200\n",
            "12/12 [==============================] - 0s 6ms/step - loss: 0.0402 - accuracy: 1.0000\n",
            "Epoch 111/200\n",
            "12/12 [==============================] - 0s 4ms/step - loss: 0.0161 - accuracy: 1.0000\n",
            "Epoch 112/200\n",
            "12/12 [==============================] - 0s 6ms/step - loss: 0.0887 - accuracy: 0.9643\n",
            "Epoch 113/200\n",
            "12/12 [==============================] - 0s 4ms/step - loss: 0.0174 - accuracy: 1.0000\n",
            "Epoch 114/200\n",
            "12/12 [==============================] - 0s 5ms/step - loss: 0.0397 - accuracy: 1.0000\n",
            "Epoch 115/200\n",
            "12/12 [==============================] - 0s 4ms/step - loss: 0.0824 - accuracy: 0.9821\n",
            "Epoch 116/200\n",
            "12/12 [==============================] - 0s 4ms/step - loss: 0.0595 - accuracy: 0.9821\n",
            "Epoch 117/200\n",
            "12/12 [==============================] - 0s 4ms/step - loss: 0.0595 - accuracy: 0.9821\n",
            "Epoch 118/200\n",
            "12/12 [==============================] - 0s 4ms/step - loss: 0.0404 - accuracy: 1.0000\n",
            "Epoch 119/200\n",
            "12/12 [==============================] - 0s 4ms/step - loss: 0.0681 - accuracy: 0.9821\n",
            "Epoch 120/200\n",
            "12/12 [==============================] - 0s 3ms/step - loss: 0.0274 - accuracy: 1.0000\n",
            "Epoch 121/200\n",
            "12/12 [==============================] - 0s 4ms/step - loss: 0.0239 - accuracy: 1.0000\n",
            "Epoch 122/200\n",
            "12/12 [==============================] - 0s 4ms/step - loss: 0.0457 - accuracy: 1.0000\n",
            "Epoch 123/200\n",
            "12/12 [==============================] - 0s 4ms/step - loss: 0.0219 - accuracy: 1.0000\n",
            "Epoch 124/200\n",
            "12/12 [==============================] - 0s 4ms/step - loss: 0.0446 - accuracy: 0.9821\n",
            "Epoch 125/200\n",
            "12/12 [==============================] - 0s 8ms/step - loss: 0.0246 - accuracy: 1.0000\n",
            "Epoch 126/200\n",
            "12/12 [==============================] - 0s 11ms/step - loss: 0.0400 - accuracy: 0.9821\n",
            "Epoch 127/200\n",
            "12/12 [==============================] - 0s 11ms/step - loss: 0.0452 - accuracy: 0.9821\n",
            "Epoch 128/200\n",
            "12/12 [==============================] - 0s 10ms/step - loss: 0.0135 - accuracy: 1.0000\n",
            "Epoch 129/200\n",
            "12/12 [==============================] - 0s 16ms/step - loss: 0.0248 - accuracy: 1.0000\n",
            "Epoch 130/200\n",
            "12/12 [==============================] - 0s 13ms/step - loss: 0.0323 - accuracy: 0.9821\n",
            "Epoch 131/200\n",
            "12/12 [==============================] - 0s 9ms/step - loss: 0.0222 - accuracy: 1.0000\n",
            "Epoch 132/200\n",
            "12/12 [==============================] - 0s 8ms/step - loss: 0.0904 - accuracy: 0.9643\n",
            "Epoch 133/200\n",
            "12/12 [==============================] - 0s 12ms/step - loss: 0.0489 - accuracy: 0.9821\n",
            "Epoch 134/200\n",
            "12/12 [==============================] - 0s 7ms/step - loss: 0.0338 - accuracy: 1.0000\n",
            "Epoch 135/200\n",
            "12/12 [==============================] - 0s 4ms/step - loss: 0.0234 - accuracy: 1.0000\n",
            "Epoch 136/200\n",
            "12/12 [==============================] - 0s 4ms/step - loss: 0.0427 - accuracy: 1.0000\n",
            "Epoch 137/200\n",
            "12/12 [==============================] - 0s 7ms/step - loss: 0.0278 - accuracy: 1.0000\n",
            "Epoch 138/200\n",
            "12/12 [==============================] - 0s 4ms/step - loss: 0.0866 - accuracy: 0.9821\n",
            "Epoch 139/200\n",
            "12/12 [==============================] - 0s 5ms/step - loss: 0.0637 - accuracy: 0.9821\n",
            "Epoch 140/200\n",
            "12/12 [==============================] - 0s 4ms/step - loss: 0.0298 - accuracy: 0.9821\n",
            "Epoch 141/200\n",
            "12/12 [==============================] - 0s 6ms/step - loss: 0.0546 - accuracy: 0.9821\n",
            "Epoch 142/200\n",
            "12/12 [==============================] - 0s 4ms/step - loss: 0.0278 - accuracy: 1.0000\n",
            "Epoch 143/200\n",
            "12/12 [==============================] - 0s 7ms/step - loss: 0.0424 - accuracy: 0.9821\n",
            "Epoch 144/200\n",
            "12/12 [==============================] - 0s 11ms/step - loss: 0.0233 - accuracy: 1.0000\n",
            "Epoch 145/200\n",
            "12/12 [==============================] - 0s 4ms/step - loss: 0.0491 - accuracy: 1.0000\n",
            "Epoch 146/200\n",
            "12/12 [==============================] - 0s 3ms/step - loss: 0.0170 - accuracy: 1.0000\n",
            "Epoch 147/200\n",
            "12/12 [==============================] - 0s 4ms/step - loss: 0.0409 - accuracy: 1.0000\n",
            "Epoch 148/200\n",
            "12/12 [==============================] - 0s 4ms/step - loss: 0.0255 - accuracy: 1.0000\n",
            "Epoch 149/200\n",
            "12/12 [==============================] - 0s 4ms/step - loss: 0.0314 - accuracy: 1.0000\n",
            "Epoch 150/200\n",
            "12/12 [==============================] - 0s 4ms/step - loss: 0.0170 - accuracy: 1.0000\n",
            "Epoch 151/200\n",
            "12/12 [==============================] - 0s 9ms/step - loss: 0.0068 - accuracy: 1.0000\n",
            "Epoch 152/200\n",
            "12/12 [==============================] - 0s 11ms/step - loss: 0.0454 - accuracy: 1.0000\n",
            "Epoch 153/200\n",
            "12/12 [==============================] - 0s 12ms/step - loss: 0.0702 - accuracy: 0.9643\n",
            "Epoch 154/200\n",
            "12/12 [==============================] - 0s 12ms/step - loss: 0.0227 - accuracy: 1.0000\n",
            "Epoch 155/200\n",
            "12/12 [==============================] - 0s 4ms/step - loss: 0.0475 - accuracy: 0.9821\n",
            "Epoch 156/200\n",
            "12/12 [==============================] - 0s 3ms/step - loss: 0.0250 - accuracy: 1.0000\n",
            "Epoch 157/200\n",
            "12/12 [==============================] - 0s 3ms/step - loss: 0.1271 - accuracy: 0.9643\n",
            "Epoch 158/200\n",
            "12/12 [==============================] - 0s 2ms/step - loss: 0.0383 - accuracy: 1.0000\n",
            "Epoch 159/200\n",
            "12/12 [==============================] - 0s 3ms/step - loss: 0.0340 - accuracy: 1.0000\n",
            "Epoch 160/200\n",
            "12/12 [==============================] - 0s 3ms/step - loss: 0.0581 - accuracy: 0.9821\n",
            "Epoch 161/200\n",
            "12/12 [==============================] - 0s 3ms/step - loss: 0.0889 - accuracy: 0.9643\n",
            "Epoch 162/200\n",
            "12/12 [==============================] - 0s 2ms/step - loss: 0.0866 - accuracy: 0.9821\n",
            "Epoch 163/200\n",
            "12/12 [==============================] - 0s 3ms/step - loss: 0.0472 - accuracy: 0.9821\n",
            "Epoch 164/200\n",
            "12/12 [==============================] - 0s 2ms/step - loss: 0.0510 - accuracy: 0.9821\n",
            "Epoch 165/200\n",
            "12/12 [==============================] - 0s 3ms/step - loss: 0.0421 - accuracy: 0.9821\n",
            "Epoch 166/200\n",
            "12/12 [==============================] - 0s 3ms/step - loss: 0.0688 - accuracy: 0.9821\n",
            "Epoch 167/200\n",
            "12/12 [==============================] - 0s 3ms/step - loss: 0.0076 - accuracy: 1.0000\n",
            "Epoch 168/200\n",
            "12/12 [==============================] - 0s 2ms/step - loss: 0.0267 - accuracy: 1.0000\n",
            "Epoch 169/200\n",
            "12/12 [==============================] - 0s 3ms/step - loss: 0.0295 - accuracy: 1.0000\n",
            "Epoch 170/200\n",
            "12/12 [==============================] - 0s 3ms/step - loss: 0.0463 - accuracy: 0.9821\n",
            "Epoch 171/200\n",
            "12/12 [==============================] - 0s 3ms/step - loss: 0.0216 - accuracy: 1.0000\n",
            "Epoch 172/200\n",
            "12/12 [==============================] - 0s 2ms/step - loss: 0.0130 - accuracy: 1.0000\n",
            "Epoch 173/200\n",
            "12/12 [==============================] - 0s 2ms/step - loss: 0.0159 - accuracy: 1.0000\n",
            "Epoch 174/200\n",
            "12/12 [==============================] - 0s 3ms/step - loss: 0.0139 - accuracy: 1.0000\n",
            "Epoch 175/200\n",
            "12/12 [==============================] - 0s 3ms/step - loss: 0.0425 - accuracy: 0.9821\n",
            "Epoch 176/200\n",
            "12/12 [==============================] - 0s 3ms/step - loss: 0.0553 - accuracy: 0.9821\n",
            "Epoch 177/200\n",
            "12/12 [==============================] - 0s 3ms/step - loss: 0.0234 - accuracy: 1.0000\n",
            "Epoch 178/200\n",
            "12/12 [==============================] - 0s 3ms/step - loss: 0.0368 - accuracy: 0.9821\n",
            "Epoch 179/200\n",
            "12/12 [==============================] - 0s 4ms/step - loss: 0.0956 - accuracy: 0.9821\n",
            "Epoch 180/200\n",
            "12/12 [==============================] - 0s 3ms/step - loss: 0.0330 - accuracy: 1.0000\n",
            "Epoch 181/200\n",
            "12/12 [==============================] - 0s 3ms/step - loss: 0.0050 - accuracy: 1.0000\n",
            "Epoch 182/200\n",
            "12/12 [==============================] - 0s 3ms/step - loss: 0.0165 - accuracy: 1.0000\n",
            "Epoch 183/200\n",
            "12/12 [==============================] - 0s 3ms/step - loss: 0.0211 - accuracy: 1.0000\n",
            "Epoch 184/200\n",
            "12/12 [==============================] - 0s 3ms/step - loss: 0.0278 - accuracy: 1.0000\n",
            "Epoch 185/200\n",
            "12/12 [==============================] - 0s 3ms/step - loss: 0.0086 - accuracy: 1.0000\n",
            "Epoch 186/200\n",
            "12/12 [==============================] - 0s 2ms/step - loss: 0.0294 - accuracy: 1.0000\n",
            "Epoch 187/200\n",
            "12/12 [==============================] - 0s 3ms/step - loss: 0.0305 - accuracy: 0.9821\n",
            "Epoch 188/200\n",
            "12/12 [==============================] - 0s 3ms/step - loss: 0.0064 - accuracy: 1.0000\n",
            "Epoch 189/200\n",
            "12/12 [==============================] - 0s 3ms/step - loss: 0.0504 - accuracy: 1.0000\n",
            "Epoch 190/200\n",
            "12/12 [==============================] - 0s 3ms/step - loss: 0.0055 - accuracy: 1.0000\n",
            "Epoch 191/200\n",
            "12/12 [==============================] - 0s 2ms/step - loss: 0.0184 - accuracy: 1.0000\n",
            "Epoch 192/200\n",
            "12/12 [==============================] - 0s 2ms/step - loss: 0.0661 - accuracy: 0.9821\n",
            "Epoch 193/200\n",
            "12/12 [==============================] - 0s 3ms/step - loss: 0.0163 - accuracy: 1.0000\n",
            "Epoch 194/200\n",
            "12/12 [==============================] - 0s 3ms/step - loss: 0.0137 - accuracy: 1.0000\n",
            "Epoch 195/200\n",
            "12/12 [==============================] - 0s 4ms/step - loss: 0.0892 - accuracy: 0.9643\n",
            "Epoch 196/200\n",
            "12/12 [==============================] - 0s 4ms/step - loss: 0.0056 - accuracy: 1.0000\n",
            "Epoch 197/200\n",
            "12/12 [==============================] - 0s 3ms/step - loss: 0.0305 - accuracy: 1.0000\n",
            "Epoch 198/200\n",
            "12/12 [==============================] - 0s 4ms/step - loss: 0.0078 - accuracy: 1.0000\n",
            "Epoch 199/200\n",
            "12/12 [==============================] - 0s 3ms/step - loss: 0.0184 - accuracy: 1.0000\n",
            "Epoch 200/200\n",
            "12/12 [==============================] - 0s 4ms/step - loss: 0.0405 - accuracy: 0.9821\n",
            "model created\n"
          ]
        },
        {
          "output_type": "stream",
          "name": "stderr",
          "text": [
            "/usr/local/lib/python3.10/dist-packages/keras/src/engine/training.py:3103: UserWarning: You are saving your model as an HDF5 file via `model.save()`. This file format is considered legacy. We recommend using instead the native Keras format, e.g. `model.save('my_model.keras')`.\n",
            "  saving_api.save_model(\n"
          ]
        }
      ]
    },
    {
      "cell_type": "code",
      "source": [
        "from keras.models import load_model\n",
        "\n",
        "model = load_model('/content/chatbot_model.h5')"
      ],
      "metadata": {
        "id": "GZ1YCyaPkXjd"
      },
      "execution_count": 75,
      "outputs": []
    },
    {
      "cell_type": "code",
      "source": [
        "user_input = \"Hi, how are you?\"\n",
        "input_words = nltk.word_tokenize(user_input)\n",
        "input_words = [lemmatizer.lemmatize(word.lower()) for word in input_words]\n",
        "\n",
        "# Create a bag-of-words representation\n",
        "input_bag = [1 if w in input_words else 0 for w in words]"
      ],
      "metadata": {
        "id": "M06pNMG4kdgv"
      },
      "execution_count": 76,
      "outputs": []
    },
    {
      "cell_type": "code",
      "source": [
        "input_bag = np.array([input_bag])  # Convert the input to a NumPy array\n",
        "predictions = model.predict(input_bag)[0]\n"
      ],
      "metadata": {
        "colab": {
          "base_uri": "https://localhost:8080/"
        },
        "id": "Pg89h5TEkl6h",
        "outputId": "d81345b9-4689-4cbd-af62-334e1ee92cf0"
      },
      "execution_count": 77,
      "outputs": [
        {
          "output_type": "stream",
          "name": "stdout",
          "text": [
            "1/1 [==============================] - 0s 59ms/step\n"
          ]
        }
      ]
    },
    {
      "cell_type": "code",
      "source": [
        "predicted_class_index = np.argmax(predictions)\n",
        "predicted_intent = categories[predicted_class_index]\n",
        "predicted_intent\n"
      ],
      "metadata": {
        "id": "S_ARxKwXknQf",
        "colab": {
          "base_uri": "https://localhost:8080/",
          "height": 36
        },
        "outputId": "ef85e46e-875e-4261-b9b0-fcbece2f7e20"
      },
      "execution_count": 78,
      "outputs": [
        {
          "output_type": "execute_result",
          "data": {
            "text/plain": [
              "'greeting'"
            ],
            "application/vnd.google.colaboratory.intrinsic+json": {
              "type": "string"
            }
          },
          "metadata": {},
          "execution_count": 78
        }
      ]
    },
    {
      "cell_type": "code",
      "source": [
        "test_data = [\n",
        "    {\"input\": \"Hello\", \"expected_intent\": \"greeting\"},\n",
        "    {\"input\": \"Bye\", \"expected_intent\": \"goodbye\"}\n",
        "]"
      ],
      "metadata": {
        "id": "Bk2xEu8Bl27j"
      },
      "execution_count": null,
      "outputs": []
    },
    {
      "cell_type": "code",
      "source": [
        "import tensorflow as tf\n"
      ],
      "metadata": {
        "id": "gueG2ks7ooUe"
      },
      "execution_count": 82,
      "outputs": []
    },
    {
      "cell_type": "code",
      "source": [
        "# Assuming you have test data in test_data\n",
        "test_x = []\n",
        "test_y = []\n",
        "\n",
        "for test_case in test_data:\n",
        "    user_input = test_case[\"input\"]\n",
        "    expected_intent = test_case[\"expected_intent\"]\n",
        "\n",
        "    input_words = nltk.word_tokenize(user_input)\n",
        "    input_words = [lemmatizer.lemmatize(word.lower()) for word in input_words]\n",
        "\n",
        "    input_bag = [1 if w in input_words else 0 for w in words]\n",
        "\n",
        "    test_x.append(input_bag)\n",
        "    test_y.append(categories.index(expected_intent))\n",
        "\n",
        "# Convert test_y to one-hot encoded format\n",
        "test_y = tf.keras.utils.to_categorical(test_y, num_classes=len(categories))\n",
        "\n",
        "test_x = np.array(test_x)\n",
        "test_y = np.array(test_y)\n",
        "\n",
        "# Evaluate the model\n",
        "accuracy = model.evaluate(test_x, test_y, verbose=1)\n",
        "print(f\"Test Accuracy: {accuracy[1] * 100:.2f}%\")\n"
      ],
      "metadata": {
        "colab": {
          "base_uri": "https://localhost:8080/"
        },
        "id": "Sy5LAL2Iko4t",
        "outputId": "b3a6c4d6-feec-4ee6-b026-1684b2233b24"
      },
      "execution_count": 84,
      "outputs": [
        {
          "output_type": "stream",
          "name": "stdout",
          "text": [
            "1/1 [==============================] - 0s 197ms/step - loss: 2.2218e-04 - accuracy: 1.0000\n",
            "Test Accuracy: 100.00%\n"
          ]
        }
      ]
    },
    {
      "cell_type": "code",
      "source": [
        "import nltk\n",
        "import numpy as np\n",
        "from keras.models import load_model\n",
        "\n",
        "nltk.download('punkt')\n",
        "nltk.download('wordnet')\n",
        "from nltk.stem import WordNetLemmatizer\n",
        "\n",
        "# Load the trained model\n",
        "model = load_model('/content/chatbot_model.h5')\n",
        "\n",
        "# Load preprocessed data (words and categories)\n",
        "import pickle\n",
        "words = pickle.load(open('/content/words.pkl', 'rb'))\n",
        "categories = pickle.load(open('/content/categories.pkl', 'rb'))\n",
        "\n",
        "lemmatizer = WordNetLemmatizer()\n",
        "\n",
        "def clean_up_sentence(sentence):\n",
        "    sentence_words = nltk.word_tokenize(sentence)\n",
        "    sentence_words = [lemmatizer.lemmatize(word.lower()) for word in sentence_words]\n",
        "    return sentence_words\n",
        "\n",
        "def bow(sentence, words, show_details=True):\n",
        "    sentence_words = clean_up_sentence(sentence)\n",
        "    bag = [0]*len(words)\n",
        "    for s in sentence_words:\n",
        "        for i, w in enumerate(words):\n",
        "            if w == s:\n",
        "                bag[i] = 1\n",
        "                if show_details:\n",
        "                    print(\"found in bag: %s\" % w)\n",
        "    return(np.array(bag))\n",
        "\n",
        "def predict_class(sentence, model):\n",
        "    p = bow(sentence, words, show_details=False)\n",
        "    res = model.predict(np.array([p]))[0]\n",
        "    ERROR_THRESHOLD = 0.25\n",
        "    results = [[i, r] for i, r in enumerate(res) if r > ERROR_THRESHOLD]\n",
        "\n",
        "    results.sort(key=lambda x: x[1], reverse=True)\n",
        "    return_list = []\n",
        "    for r in results:\n",
        "        return_list.append({\"intent\": categories[r[0]], \"probability\": str(r[1])})\n",
        "    return return_list\n",
        "\n",
        "def get_response(intents_list, intents_json):\n",
        "    tag = intents_list[0]['intent']\n",
        "    list_of_intents = intents_json['intents']\n",
        "    for i in list_of_intents:\n",
        "        if i['tag'] == tag:\n",
        "            result = random.choice(i['responses'])\n",
        "            break\n",
        "    return result\n",
        "\n",
        "def chatbot_response(user_input):\n",
        "    intents = predict_class(user_input, model)\n",
        "    response = get_response(intents, intents_json)\n",
        "    return response\n"
      ],
      "metadata": {
        "colab": {
          "base_uri": "https://localhost:8080/"
        },
        "id": "oigMGzdVpHQT",
        "outputId": "6808d61d-8cf0-4a01-a85e-42c17333eaee"
      },
      "execution_count": 86,
      "outputs": [
        {
          "output_type": "stream",
          "name": "stderr",
          "text": [
            "[nltk_data] Downloading package punkt to /root/nltk_data...\n",
            "[nltk_data]   Package punkt is already up-to-date!\n",
            "[nltk_data] Downloading package wordnet to /root/nltk_data...\n",
            "[nltk_data]   Package wordnet is already up-to-date!\n"
          ]
        }
      ]
    },
    {
      "cell_type": "code",
      "source": [
        "import json\n",
        "\n",
        "# Load your intents JSON file\n",
        "with open('/content/Chabotdataset.json', 'r') as file:\n",
        "    intents_json = json.load(file)\n"
      ],
      "metadata": {
        "id": "HPupvIjFqGJ2"
      },
      "execution_count": 88,
      "outputs": []
    },
    {
      "cell_type": "code",
      "source": [],
      "metadata": {
        "id": "z17QHqgIqz3S"
      },
      "execution_count": null,
      "outputs": []
    },
    {
      "cell_type": "code",
      "source": [
        "while True:\n",
        "    user_input = input(\"You: \")\n",
        "\n",
        "    if user_input.lower() == 'bye':\n",
        "        print(\"Chatbot: Goodbye!\")\n",
        "        break\n",
        "\n",
        "    response = chatbot_response(user_input)\n",
        "    print(\"Chatbot:\", response)\n"
      ],
      "metadata": {
        "colab": {
          "base_uri": "https://localhost:8080/"
        },
        "id": "5He_YJ7ipqGn",
        "outputId": "4ed63064-b79d-48f9-e87a-c54fb6004fd4"
      },
      "execution_count": 90,
      "outputs": [
        {
          "output_type": "stream",
          "name": "stdout",
          "text": [
            "You: Hi there\n",
            "1/1 [==============================] - 0s 23ms/step\n",
            "Chatbot: Good to see you again\n",
            "You: what can you do for me\n",
            "1/1 [==============================] - 0s 36ms/step\n",
            "Chatbot: I can answer your questions related to machine learning or any general anser. Come on try me\n",
            "You: how are you feeling\n",
            "1/1 [==============================] - 0s 23ms/step\n",
            "Chatbot: No thanks\n",
            "You: you okay\n",
            "1/1 [==============================] - 0s 29ms/step\n",
            "Chatbot: No thanks\n",
            "You: There's no one like you\n",
            "1/1 [==============================] - 0s 33ms/step\n",
            "Chatbot: Tell me something I don't know\n",
            "You: I like you\n",
            "1/1 [==============================] - 0s 21ms/step\n",
            "Chatbot: Of course, you do, sweetheart\n",
            "You: you are amazing\n",
            "1/1 [==============================] - 0s 27ms/step\n",
            "Chatbot: I know\n",
            "You: Please can I talk with you\n",
            "1/1 [==============================] - 0s 21ms/step\n",
            "Chatbot: Awww..welcome to my life!\n",
            "You: you are useless\n",
            "1/1 [==============================] - 0s 38ms/step\n",
            "Chatbot: Thank you so much for correcting me\n",
            "You: do you like me\n",
            "1/1 [==============================] - 0s 21ms/step\n",
            "Chatbot: I don't know...I'm a bot!\n",
            "You: bye\n",
            "Chatbot: Goodbye!\n"
          ]
        }
      ]
    }
  ]
}