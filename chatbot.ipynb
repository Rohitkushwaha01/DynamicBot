{
 "cells": [
  {
   "cell_type": "code",
   "execution_count": 34,
   "metadata": {},
   "outputs": [
    {
     "name": "stderr",
     "output_type": "stream",
     "text": [
      "[nltk_data] Downloading package punkt to\n",
      "[nltk_data]     C:\\Users\\ROHIT\\AppData\\Roaming\\nltk_data...\n",
      "[nltk_data]   Package punkt is already up-to-date!\n",
      "[nltk_data] Downloading package wordnet to\n",
      "[nltk_data]     C:\\Users\\ROHIT\\AppData\\Roaming\\nltk_data...\n",
      "[nltk_data]   Package wordnet is already up-to-date!\n"
     ]
    }
   ],
   "source": [
    "import nltk\n",
    "nltk.download('punkt')\n",
    "nltk.download('wordnet')\n",
    "from nltk.stem import WordNetLemmatizer\n",
    "lemmatizer = WordNetLemmatizer()\n",
    "import json\n",
    "import pickle\n",
    "\n",
    "import random\n",
    "import pandas as pd\n",
    "import numpy as np\n",
    "\n",
    "from keras.models import Sequential\n",
    "from keras.layers import Dense, Activation, Dropout\n",
    "from keras.optimizers import SGD"
   ]
  },
  {
   "cell_type": "code",
   "execution_count": 35,
   "metadata": {},
   "outputs": [],
   "source": [
    "#This line initializes an empty list named words.\n",
    "#It will be used to store unique words from the dataset.\n",
    "words=[]\n",
    "\n",
    "# this line initializes an empty list named classes.\n",
    "# It will be used to store unique classes or categories of intents from the dataset.\n",
    "categories = []\n",
    "\n",
    "#This line initializes an empty list named documents.\n",
    "#It will be used to store tuples where each tuple consists of a list of words (representing a pattern or sentence) and its corresponding class\n",
    "documents = []\n",
    "\n",
    "#This line initializes a list named ignore_words containing characters that should be ignored or treated separately.\n",
    "ignore_words = ['?', '!', '@', '#', '`', '$', '%', '^', '&', '*', '(', ')', '_', '+']"
   ]
  },
  {
   "cell_type": "code",
   "execution_count": 36,
   "metadata": {},
   "outputs": [
    {
     "name": "stdout",
     "output_type": "stream",
     "text": [
      "{'intents': [{'tag': 'greeting', 'patterns': ['Hi there', 'How are you', 'Is anyone there?', 'Hey', 'Hola', 'Hello', 'Good day'], 'responses': ['Hello, thanks for asking', 'Good to see you again', 'Hi there, how can I help?'], 'context': ['']}, {'tag': 'goodbye', 'patterns': ['Bye', 'See you later', 'Goodbye', 'Nice chatting to you, bye', 'Till next time'], 'responses': ['See you!', 'Have a nice day', 'Bye! Come back again soon.'], 'context': ['']}, {'tag': 'thanks', 'patterns': ['Thanks', 'Thank you', \"That's helpful\", 'Awesome, thanks', 'Thanks for helping me'], 'responses': ['Happy to help!', 'Any time!', 'My pleasure'], 'context': ['']}, {'tag': 'noanswer', 'patterns': [], 'responses': [\"Sorry, can't understand you\", 'Please give me more info', 'Not sure I understand'], 'context': ['']}, {'tag': 'options', 'patterns': ['How you could help me?', 'What you can do?', 'What help you provide?', 'How you can be helpful?', 'What support is offered'], 'responses': ['I am like your virtual assistant, you can ask me any questions. If I know I will answer', 'I can answer your questions related to machine learning or any general anser. Come on try me', 'I can chat with you. Come on talk me buddy', 'We both can chat and make each other happy'], 'context': ['']}, {'tag': 'Concern', 'patterns': ['You okay?', 'How are you feeling today?', 'Are you feeling ill?', 'Do you need my help?', \"Hope you tell me what's bothering you.\", 'Is something bothering you?', \"I'm all ears if you got something to say\"], 'responses': [\"Thanks for asking but I'm fine\", \"Thank you but I'm doing okay \", \"I'm fine thankyou\", 'No thanks', \"No it's nothing really\", \"Yes I'm feeling a bit under the weather today\"], 'context': ['']}, {'tag': 'Appreciation', 'patterns': ['I like you', \"There's no one like you\", 'You are one in a million', 'You are so helpful!', 'You are amazing'], 'responses': ['Of course, you do, sweetheart', \"Tell me something I don't know\", 'I know', 'Obviously duh!'], 'context': ['']}, {'tag': 'Please', 'patterns': ['Please can I talk with you?', 'Please help me!', \"I'm so lost and sad\", \"I'm so sad today\", 'Can you do something to make me feel happy again?', 'Had a rough day today'], 'responses': ['Yes, shoot.', \"How may I assist my master? After all, I'm just a humble servant\", 'Awww..welcome to my life!', 'Get a life....Next!', 'Might I interest you in a sarcastic comment?'], 'context': ['']}, {'tag': 'Criticism', 'patterns': ['You are useless', 'You are a good-for-nothing chatbot', 'You are stupid', 'You are totally cringe', 'Why are you so rude?', 'Why you so mad?', 'You messed up', 'You made a mistake', 'You got it wrong'], 'responses': ['Sorry, please forgive me?', \"I swear I'm gonna get better at this!\", 'Thank you so much for correcting me'], 'context': ['']}, {'tag': 'Personal', 'patterns': ['What are your hobbies?', 'Do you like someone?', 'Do you have a boyfriend or girlfriend?', 'Do you like me?', 'What is your favourite movie?', \"What's your favourite song?\", 'What is your aim in life?'], 'responses': [\"I don't know...I'm a bot!\"], 'context': ['']}]}\n"
     ]
    }
   ],
   "source": [
    "data_file = open('D:\\Final Year Project\\Learnings\\Frontend_Backend\\Chabotdataset.json').read()\n",
    "intents = json.loads(data_file)\n",
    "print(intents)"
   ]
  },
  {
   "cell_type": "code",
   "execution_count": 37,
   "metadata": {},
   "outputs": [
    {
     "name": "stdout",
     "output_type": "stream",
     "text": [
      "['Hi', 'there', 'How', 'are', 'you', 'Is', 'anyone', 'there', '?', 'Hey', 'Hola', 'Hello', 'Good', 'day', 'Bye', 'See', 'you', 'later', 'Goodbye', 'Nice', 'chatting', 'to', 'you', ',', 'bye', 'Till', 'next', 'time', 'Thanks', 'Thank', 'you', 'That', \"'s\", 'helpful', 'Awesome', ',', 'thanks', 'Thanks', 'for', 'helping', 'me', 'How', 'you', 'could', 'help', 'me', '?', 'What', 'you', 'can', 'do', '?', 'What', 'help', 'you', 'provide', '?', 'How', 'you', 'can', 'be', 'helpful', '?', 'What', 'support', 'is', 'offered', 'You', 'okay', '?', 'How', 'are', 'you', 'feeling', 'today', '?', 'Are', 'you', 'feeling', 'ill', '?', 'Do', 'you', 'need', 'my', 'help', '?', 'Hope', 'you', 'tell', 'me', 'what', \"'s\", 'bothering', 'you', '.', 'Is', 'something', 'bothering', 'you', '?', 'I', \"'m\", 'all', 'ears', 'if', 'you', 'got', 'something', 'to', 'say', 'I', 'like', 'you', 'There', \"'s\", 'no', 'one', 'like', 'you', 'You', 'are', 'one', 'in', 'a', 'million', 'You', 'are', 'so', 'helpful', '!', 'You', 'are', 'amazing', 'Please', 'can', 'I', 'talk', 'with', 'you', '?', 'Please', 'help', 'me', '!', 'I', \"'m\", 'so', 'lost', 'and', 'sad', 'I', \"'m\", 'so', 'sad', 'today', 'Can', 'you', 'do', 'something', 'to', 'make', 'me', 'feel', 'happy', 'again', '?', 'Had', 'a', 'rough', 'day', 'today', 'You', 'are', 'useless', 'You', 'are', 'a', 'good-for-nothing', 'chatbot', 'You', 'are', 'stupid', 'You', 'are', 'totally', 'cringe', 'Why', 'are', 'you', 'so', 'rude', '?', 'Why', 'you', 'so', 'mad', '?', 'You', 'messed', 'up', 'You', 'made', 'a', 'mistake', 'You', 'got', 'it', 'wrong', 'What', 'are', 'your', 'hobbies', '?', 'Do', 'you', 'like', 'someone', '?', 'Do', 'you', 'have', 'a', 'boyfriend', 'or', 'girlfriend', '?', 'Do', 'you', 'like', 'me', '?', 'What', 'is', 'your', 'favourite', 'movie', '?', 'What', \"'s\", 'your', 'favourite', 'song', '?', 'What', 'is', 'your', 'aim', 'in', 'life', '?']\n",
      "[(['Hi', 'there'], 'greeting'), (['How', 'are', 'you'], 'greeting'), (['Is', 'anyone', 'there', '?'], 'greeting'), (['Hey'], 'greeting'), (['Hola'], 'greeting'), (['Hello'], 'greeting'), (['Good', 'day'], 'greeting'), (['Bye'], 'goodbye'), (['See', 'you', 'later'], 'goodbye'), (['Goodbye'], 'goodbye'), (['Nice', 'chatting', 'to', 'you', ',', 'bye'], 'goodbye'), (['Till', 'next', 'time'], 'goodbye'), (['Thanks'], 'thanks'), (['Thank', 'you'], 'thanks'), (['That', \"'s\", 'helpful'], 'thanks'), (['Awesome', ',', 'thanks'], 'thanks'), (['Thanks', 'for', 'helping', 'me'], 'thanks'), (['How', 'you', 'could', 'help', 'me', '?'], 'options'), (['What', 'you', 'can', 'do', '?'], 'options'), (['What', 'help', 'you', 'provide', '?'], 'options'), (['How', 'you', 'can', 'be', 'helpful', '?'], 'options'), (['What', 'support', 'is', 'offered'], 'options'), (['You', 'okay', '?'], 'Concern'), (['How', 'are', 'you', 'feeling', 'today', '?'], 'Concern'), (['Are', 'you', 'feeling', 'ill', '?'], 'Concern'), (['Do', 'you', 'need', 'my', 'help', '?'], 'Concern'), (['Hope', 'you', 'tell', 'me', 'what', \"'s\", 'bothering', 'you', '.'], 'Concern'), (['Is', 'something', 'bothering', 'you', '?'], 'Concern'), (['I', \"'m\", 'all', 'ears', 'if', 'you', 'got', 'something', 'to', 'say'], 'Concern'), (['I', 'like', 'you'], 'Appreciation'), (['There', \"'s\", 'no', 'one', 'like', 'you'], 'Appreciation'), (['You', 'are', 'one', 'in', 'a', 'million'], 'Appreciation'), (['You', 'are', 'so', 'helpful', '!'], 'Appreciation'), (['You', 'are', 'amazing'], 'Appreciation'), (['Please', 'can', 'I', 'talk', 'with', 'you', '?'], 'Please'), (['Please', 'help', 'me', '!'], 'Please'), (['I', \"'m\", 'so', 'lost', 'and', 'sad'], 'Please'), (['I', \"'m\", 'so', 'sad', 'today'], 'Please'), (['Can', 'you', 'do', 'something', 'to', 'make', 'me', 'feel', 'happy', 'again', '?'], 'Please'), (['Had', 'a', 'rough', 'day', 'today'], 'Please'), (['You', 'are', 'useless'], 'Criticism'), (['You', 'are', 'a', 'good-for-nothing', 'chatbot'], 'Criticism'), (['You', 'are', 'stupid'], 'Criticism'), (['You', 'are', 'totally', 'cringe'], 'Criticism'), (['Why', 'are', 'you', 'so', 'rude', '?'], 'Criticism'), (['Why', 'you', 'so', 'mad', '?'], 'Criticism'), (['You', 'messed', 'up'], 'Criticism'), (['You', 'made', 'a', 'mistake'], 'Criticism'), (['You', 'got', 'it', 'wrong'], 'Criticism'), (['What', 'are', 'your', 'hobbies', '?'], 'Personal'), (['Do', 'you', 'like', 'someone', '?'], 'Personal'), (['Do', 'you', 'have', 'a', 'boyfriend', 'or', 'girlfriend', '?'], 'Personal'), (['Do', 'you', 'like', 'me', '?'], 'Personal'), (['What', 'is', 'your', 'favourite', 'movie', '?'], 'Personal'), (['What', \"'s\", 'your', 'favourite', 'song', '?'], 'Personal'), (['What', 'is', 'your', 'aim', 'in', 'life', '?'], 'Personal')]\n",
      "['greeting', 'goodbye', 'thanks', 'options', 'Concern', 'Appreciation', 'Please', 'Criticism', 'Personal']\n"
     ]
    }
   ],
   "source": [
    "for intent in intents['intents']:\n",
    "\n",
    "  for pattern in intent['patterns']:\n",
    "    #take each pattern and tokenize it\n",
    "    w = nltk.word_tokenize(pattern)\n",
    "\n",
    "    #adding w into words list\n",
    "    words.extend(w)\n",
    "\n",
    "    #adding documents\n",
    "    documents.append((w,intent['tag']))\n",
    "\n",
    "    #adding categories to our category list\n",
    "    if intent['tag'] not in categories:\n",
    "      categories.append(intent['tag'])\n",
    "\n",
    "print(words)\n",
    "print(documents)\n",
    "print(categories)"
   ]
  },
  {
   "cell_type": "code",
   "execution_count": 38,
   "metadata": {},
   "outputs": [
    {
     "name": "stdout",
     "output_type": "stream",
     "text": [
      "['hi', 'there', 'how', 'are', 'you', 'is', 'anyone', 'there', 'hey', 'hola', 'hello', 'good', 'day', 'bye', 'see', 'you', 'later', 'goodbye', 'nice', 'chatting', 'to', 'you', ',', 'bye', 'till', 'next', 'time', 'thanks', 'thank', 'you', 'that', \"'s\", 'helpful', 'awesome', ',', 'thanks', 'thanks', 'for', 'helping', 'me', 'how', 'you', 'could', 'help', 'me', 'what', 'you', 'can', 'do', 'what', 'help', 'you', 'provide', 'how', 'you', 'can', 'be', 'helpful', 'what', 'support', 'is', 'offered', 'you', 'okay', 'how', 'are', 'you', 'feeling', 'today', 'are', 'you', 'feeling', 'ill', 'do', 'you', 'need', 'my', 'help', 'hope', 'you', 'tell', 'me', 'what', \"'s\", 'bothering', 'you', '.', 'is', 'something', 'bothering', 'you', 'i', \"'m\", 'all', 'ear', 'if', 'you', 'got', 'something', 'to', 'say', 'i', 'like', 'you', 'there', \"'s\", 'no', 'one', 'like', 'you', 'you', 'are', 'one', 'in', 'a', 'million', 'you', 'are', 'so', 'helpful', 'you', 'are', 'amazing', 'please', 'can', 'i', 'talk', 'with', 'you', 'please', 'help', 'me', 'i', \"'m\", 'so', 'lost', 'and', 'sad', 'i', \"'m\", 'so', 'sad', 'today', 'can', 'you', 'do', 'something', 'to', 'make', 'me', 'feel', 'happy', 'again', 'had', 'a', 'rough', 'day', 'today', 'you', 'are', 'useless', 'you', 'are', 'a', 'good-for-nothing', 'chatbot', 'you', 'are', 'stupid', 'you', 'are', 'totally', 'cringe', 'why', 'are', 'you', 'so', 'rude', 'why', 'you', 'so', 'mad', 'you', 'messed', 'up', 'you', 'made', 'a', 'mistake', 'you', 'got', 'it', 'wrong', 'what', 'are', 'your', 'hobby', 'do', 'you', 'like', 'someone', 'do', 'you', 'have', 'a', 'boyfriend', 'or', 'girlfriend', 'do', 'you', 'like', 'me', 'what', 'is', 'your', 'favourite', 'movie', 'what', \"'s\", 'your', 'favourite', 'song', 'what', 'is', 'your', 'aim', 'in', 'life']\n"
     ]
    }
   ],
   "source": [
    "words = [lemmatizer.lemmatize(w.lower()) for w in words if w not in ignore_words]\n",
    "print(words)"
   ]
  },
  {
   "cell_type": "code",
   "execution_count": 39,
   "metadata": {},
   "outputs": [
    {
     "name": "stdout",
     "output_type": "stream",
     "text": [
      "[\"'m\", \"'s\", ',', '.', 'a', 'again', 'aim', 'all', 'amazing', 'and', 'anyone', 'are', 'awesome', 'be', 'bothering', 'boyfriend', 'bye', 'can', 'chatbot', 'chatting', 'could', 'cringe', 'day', 'do', 'ear', 'favourite', 'feel', 'feeling', 'for', 'girlfriend', 'good', 'good-for-nothing', 'goodbye', 'got', 'had', 'happy', 'have', 'hello', 'help', 'helpful', 'helping', 'hey', 'hi', 'hobby', 'hola', 'hope', 'how', 'i', 'if', 'ill', 'in', 'is', 'it', 'later', 'life', 'like', 'lost', 'mad', 'made', 'make', 'me', 'messed', 'million', 'mistake', 'movie', 'my', 'need', 'next', 'nice', 'no', 'offered', 'okay', 'one', 'or', 'please', 'provide', 'rough', 'rude', 'sad', 'say', 'see', 'so', 'someone', 'something', 'song', 'stupid', 'support', 'talk', 'tell', 'thank', 'thanks', 'that', 'there', 'till', 'time', 'to', 'today', 'totally', 'up', 'useless', 'what', 'why', 'with', 'wrong', 'you', 'your']\n"
     ]
    }
   ],
   "source": [
    "# list of lemmatized words converted to a set to ensure uniqueness and then back to a sorted list.\n",
    "# This list now contains all unique lemmatized words.\n",
    "words = sorted(list(set(words)))\n",
    "print(words)"
   ]
  },
  {
   "cell_type": "code",
   "execution_count": 40,
   "metadata": {},
   "outputs": [
    {
     "name": "stdout",
     "output_type": "stream",
     "text": [
      "['Appreciation', 'Concern', 'Criticism', 'Personal', 'Please', 'goodbye', 'greeting', 'options', 'thanks']\n"
     ]
    }
   ],
   "source": [
    "# Similar to the words, the list of classes is converted to a set for uniqueness and then back to a sorted list.\n",
    "categories = sorted(list(set(categories)))\n",
    "print(categories)"
   ]
  },
  {
   "cell_type": "code",
   "execution_count": 41,
   "metadata": {},
   "outputs": [],
   "source": [
    "pickle.dump(words,open('words.pkl','wb'))\n",
    "pickle.dump(categories,open('categories.pkl','wb'))"
   ]
  },
  {
   "cell_type": "code",
   "execution_count": 42,
   "metadata": {},
   "outputs": [
    {
     "name": "stdout",
     "output_type": "stream",
     "text": [
      "Training data created\n"
     ]
    }
   ],
   "source": [
    "# initializing training data\n",
    "training = []\n",
    "output_empty = [0] * len(categories)\n",
    "for doc in documents:\n",
    "    # initializing bag of words\n",
    "    bag = []\n",
    "    # list of tokenized words for the pattern\n",
    "    pattern_words = doc[0]\n",
    "    # lemmatize each word - create base word, in attempt to represent related words\n",
    "    pattern_words = [lemmatizer.lemmatize(word.lower()) for word in pattern_words]\n",
    "    # create our bag of words array with 1, if word match found in current pattern\n",
    "    for w in words:\n",
    "        bag.append(1) if w in pattern_words else bag.append(0)\n",
    "\n",
    "    # output is a '0' for each tag and '1' for current tag (for each pattern)\n",
    "    output_row = list(output_empty)\n",
    "    output_row[categories.index(doc[1])] = 1\n",
    "\n",
    "    training.append([bag, output_row])\n",
    "# shuffle our features and turn into np.array\n",
    "random.shuffle(training)\n",
    "training = np.array(training,dtype=object)\n",
    "# create train and test lists. X - patterns, Y - intents\n",
    "train_x = list(training[:,0])\n",
    "train_y = list(training[:,1])\n",
    "print(\"Training data created\")"
   ]
  },
  {
   "cell_type": "code",
   "execution_count": 43,
   "metadata": {},
   "outputs": [
    {
     "name": "stdout",
     "output_type": "stream",
     "text": [
      "Epoch 1/200\n",
      "12/12 [==============================] - 1s 3ms/step - loss: 2.2130 - accuracy: 0.1607\n",
      "Epoch 2/200\n",
      "12/12 [==============================] - 0s 1ms/step - loss: 2.1793 - accuracy: 0.1964\n",
      "Epoch 3/200\n",
      "12/12 [==============================] - 0s 1ms/step - loss: 2.1372 - accuracy: 0.1607\n",
      "Epoch 4/200\n",
      "12/12 [==============================] - 0s 2ms/step - loss: 2.0568 - accuracy: 0.1786\n",
      "Epoch 5/200\n",
      "12/12 [==============================] - 0s 1ms/step - loss: 2.0230 - accuracy: 0.2500\n",
      "Epoch 6/200\n",
      "12/12 [==============================] - 0s 1ms/step - loss: 1.9570 - accuracy: 0.2679\n",
      "Epoch 7/200\n",
      "12/12 [==============================] - 0s 2ms/step - loss: 1.8536 - accuracy: 0.3929\n",
      "Epoch 8/200\n",
      "12/12 [==============================] - 0s 1ms/step - loss: 1.8692 - accuracy: 0.4107\n",
      "Epoch 9/200\n",
      "12/12 [==============================] - 0s 2ms/step - loss: 1.6533 - accuracy: 0.4821\n",
      "Epoch 10/200\n",
      "12/12 [==============================] - 0s 2ms/step - loss: 1.7615 - accuracy: 0.3929\n",
      "Epoch 11/200\n",
      "12/12 [==============================] - 0s 2ms/step - loss: 1.4442 - accuracy: 0.5000\n",
      "Epoch 12/200\n",
      "12/12 [==============================] - 0s 2ms/step - loss: 1.4334 - accuracy: 0.5357\n",
      "Epoch 13/200\n",
      "12/12 [==============================] - 0s 2ms/step - loss: 1.3665 - accuracy: 0.5357\n",
      "Epoch 14/200\n",
      "12/12 [==============================] - 0s 2ms/step - loss: 1.2292 - accuracy: 0.6607\n",
      "Epoch 15/200\n",
      "12/12 [==============================] - 0s 2ms/step - loss: 1.2500 - accuracy: 0.6429\n",
      "Epoch 16/200\n",
      "12/12 [==============================] - 0s 1ms/step - loss: 1.2899 - accuracy: 0.5357\n",
      "Epoch 17/200\n",
      "12/12 [==============================] - 0s 808us/step - loss: 1.0284 - accuracy: 0.7500\n",
      "Epoch 18/200\n",
      "12/12 [==============================] - 0s 523us/step - loss: 0.9983 - accuracy: 0.6964\n",
      "Epoch 19/200\n",
      "12/12 [==============================] - 0s 546us/step - loss: 0.8616 - accuracy: 0.7679\n",
      "Epoch 20/200\n",
      "12/12 [==============================] - 0s 1ms/step - loss: 0.8769 - accuracy: 0.7500\n",
      "Epoch 21/200\n",
      "12/12 [==============================] - 0s 2ms/step - loss: 0.7382 - accuracy: 0.8393\n",
      "Epoch 22/200\n",
      "12/12 [==============================] - 0s 1ms/step - loss: 0.6869 - accuracy: 0.8036\n",
      "Epoch 23/200\n",
      "12/12 [==============================] - 0s 2ms/step - loss: 0.6420 - accuracy: 0.8036\n",
      "Epoch 24/200\n",
      "12/12 [==============================] - 0s 2ms/step - loss: 0.6515 - accuracy: 0.8214\n",
      "Epoch 25/200\n",
      "12/12 [==============================] - 0s 2ms/step - loss: 0.7811 - accuracy: 0.7143\n",
      "Epoch 26/200\n",
      "12/12 [==============================] - 0s 1ms/step - loss: 0.5132 - accuracy: 0.8036\n",
      "Epoch 27/200\n",
      "12/12 [==============================] - 0s 2ms/step - loss: 0.5139 - accuracy: 0.8571\n",
      "Epoch 28/200\n",
      "12/12 [==============================] - 0s 2ms/step - loss: 0.5288 - accuracy: 0.8214\n",
      "Epoch 29/200\n",
      "12/12 [==============================] - 0s 2ms/step - loss: 0.5246 - accuracy: 0.8393\n",
      "Epoch 30/200\n",
      "12/12 [==============================] - 0s 2ms/step - loss: 0.4141 - accuracy: 0.9286\n",
      "Epoch 31/200\n",
      "12/12 [==============================] - 0s 2ms/step - loss: 0.3732 - accuracy: 0.9107\n",
      "Epoch 32/200\n",
      "12/12 [==============================] - 0s 1ms/step - loss: 0.3349 - accuracy: 0.9464\n",
      "Epoch 33/200\n",
      "12/12 [==============================] - 0s 735us/step - loss: 0.2549 - accuracy: 0.9643\n",
      "Epoch 34/200\n",
      "12/12 [==============================] - 0s 1ms/step - loss: 0.4043 - accuracy: 0.8750\n",
      "Epoch 35/200\n",
      "12/12 [==============================] - 0s 2ms/step - loss: 0.2190 - accuracy: 0.9821\n",
      "Epoch 36/200\n",
      "12/12 [==============================] - 0s 1ms/step - loss: 0.2921 - accuracy: 0.9107\n",
      "Epoch 37/200\n",
      "12/12 [==============================] - 0s 2ms/step - loss: 0.3122 - accuracy: 0.9286\n",
      "Epoch 38/200\n",
      "12/12 [==============================] - 0s 1ms/step - loss: 0.3577 - accuracy: 0.8750\n",
      "Epoch 39/200\n",
      "12/12 [==============================] - 0s 2ms/step - loss: 0.2946 - accuracy: 0.9286\n",
      "Epoch 40/200\n",
      "12/12 [==============================] - 0s 2ms/step - loss: 0.2865 - accuracy: 0.9286\n",
      "Epoch 41/200\n",
      "12/12 [==============================] - 0s 1ms/step - loss: 0.3054 - accuracy: 0.9107\n",
      "Epoch 42/200\n",
      "12/12 [==============================] - 0s 2ms/step - loss: 0.2725 - accuracy: 0.9107\n",
      "Epoch 43/200\n",
      "12/12 [==============================] - 0s 764us/step - loss: 0.2476 - accuracy: 0.9464\n",
      "Epoch 44/200\n",
      "12/12 [==============================] - 0s 784us/step - loss: 0.2049 - accuracy: 0.9821\n",
      "Epoch 45/200\n",
      "12/12 [==============================] - 0s 727us/step - loss: 0.2277 - accuracy: 0.9107\n",
      "Epoch 46/200\n",
      "12/12 [==============================] - 0s 1ms/step - loss: 0.2043 - accuracy: 0.9643\n",
      "Epoch 47/200\n",
      "12/12 [==============================] - 0s 1ms/step - loss: 0.1941 - accuracy: 0.9286\n",
      "Epoch 48/200\n",
      "12/12 [==============================] - 0s 2ms/step - loss: 0.1611 - accuracy: 0.9643\n",
      "Epoch 49/200\n",
      "12/12 [==============================] - 0s 2ms/step - loss: 0.2068 - accuracy: 0.9643\n",
      "Epoch 50/200\n",
      "12/12 [==============================] - 0s 2ms/step - loss: 0.1972 - accuracy: 0.9464\n",
      "Epoch 51/200\n",
      "12/12 [==============================] - 0s 894us/step - loss: 0.2335 - accuracy: 0.9464\n",
      "Epoch 52/200\n",
      "12/12 [==============================] - 0s 2ms/step - loss: 0.1738 - accuracy: 0.9643\n",
      "Epoch 53/200\n",
      "12/12 [==============================] - 0s 2ms/step - loss: 0.1480 - accuracy: 0.9643\n",
      "Epoch 54/200\n",
      "12/12 [==============================] - 0s 2ms/step - loss: 0.1543 - accuracy: 0.9643\n",
      "Epoch 55/200\n",
      "12/12 [==============================] - 0s 1ms/step - loss: 0.1673 - accuracy: 0.9643\n",
      "Epoch 56/200\n",
      "12/12 [==============================] - 0s 2ms/step - loss: 0.1329 - accuracy: 0.9821\n",
      "Epoch 57/200\n",
      "12/12 [==============================] - 0s 2ms/step - loss: 0.1269 - accuracy: 0.9821\n",
      "Epoch 58/200\n",
      "12/12 [==============================] - 0s 2ms/step - loss: 0.1570 - accuracy: 0.9286\n",
      "Epoch 59/200\n",
      "12/12 [==============================] - 0s 2ms/step - loss: 0.1222 - accuracy: 0.9643\n",
      "Epoch 60/200\n",
      "12/12 [==============================] - 0s 2ms/step - loss: 0.1132 - accuracy: 0.9821\n",
      "Epoch 61/200\n",
      "12/12 [==============================] - 0s 2ms/step - loss: 0.0747 - accuracy: 1.0000\n",
      "Epoch 62/200\n",
      "12/12 [==============================] - 0s 1ms/step - loss: 0.1554 - accuracy: 0.9464\n",
      "Epoch 63/200\n",
      "12/12 [==============================] - 0s 1ms/step - loss: 0.1411 - accuracy: 0.9643\n",
      "Epoch 64/200\n",
      "12/12 [==============================] - 0s 1ms/step - loss: 0.1295 - accuracy: 0.9643\n",
      "Epoch 65/200\n",
      "12/12 [==============================] - 0s 2ms/step - loss: 0.1447 - accuracy: 0.9821\n",
      "Epoch 66/200\n",
      "12/12 [==============================] - 0s 2ms/step - loss: 0.0423 - accuracy: 1.0000\n",
      "Epoch 67/200\n",
      "12/12 [==============================] - 0s 2ms/step - loss: 0.1014 - accuracy: 0.9821\n",
      "Epoch 68/200\n",
      "12/12 [==============================] - 0s 2ms/step - loss: 0.0967 - accuracy: 0.9821\n",
      "Epoch 69/200\n",
      "12/12 [==============================] - 0s 1ms/step - loss: 0.1759 - accuracy: 0.9643\n",
      "Epoch 70/200\n",
      "12/12 [==============================] - 0s 1ms/step - loss: 0.1013 - accuracy: 0.9821\n",
      "Epoch 71/200\n",
      "12/12 [==============================] - 0s 1ms/step - loss: 0.1228 - accuracy: 0.9643\n",
      "Epoch 72/200\n",
      "12/12 [==============================] - 0s 1ms/step - loss: 0.0463 - accuracy: 1.0000\n",
      "Epoch 73/200\n",
      "12/12 [==============================] - 0s 682us/step - loss: 0.0888 - accuracy: 0.9821\n",
      "Epoch 74/200\n",
      "12/12 [==============================] - 0s 743us/step - loss: 0.1876 - accuracy: 0.9464\n",
      "Epoch 75/200\n",
      "12/12 [==============================] - 0s 731us/step - loss: 0.1115 - accuracy: 0.9821\n",
      "Epoch 76/200\n",
      "12/12 [==============================] - 0s 797us/step - loss: 0.0454 - accuracy: 1.0000\n",
      "Epoch 77/200\n",
      "12/12 [==============================] - 0s 2ms/step - loss: 0.0917 - accuracy: 0.9821\n",
      "Epoch 78/200\n",
      "12/12 [==============================] - 0s 2ms/step - loss: 0.0923 - accuracy: 0.9821\n",
      "Epoch 79/200\n",
      "12/12 [==============================] - 0s 2ms/step - loss: 0.1040 - accuracy: 0.9643\n",
      "Epoch 80/200\n",
      "12/12 [==============================] - 0s 1ms/step - loss: 0.0664 - accuracy: 0.9821\n",
      "Epoch 81/200\n",
      "12/12 [==============================] - 0s 2ms/step - loss: 0.1157 - accuracy: 0.9821\n",
      "Epoch 82/200\n",
      "12/12 [==============================] - 0s 1ms/step - loss: 0.1245 - accuracy: 0.9643\n",
      "Epoch 83/200\n",
      "12/12 [==============================] - 0s 910us/step - loss: 0.0616 - accuracy: 0.9821\n",
      "Epoch 84/200\n",
      "12/12 [==============================] - 0s 1ms/step - loss: 0.1030 - accuracy: 1.0000\n",
      "Epoch 85/200\n",
      "12/12 [==============================] - 0s 2ms/step - loss: 0.0658 - accuracy: 1.0000\n",
      "Epoch 86/200\n",
      "12/12 [==============================] - 0s 2ms/step - loss: 0.0867 - accuracy: 0.9821\n",
      "Epoch 87/200\n",
      "12/12 [==============================] - 0s 2ms/step - loss: 0.0535 - accuracy: 1.0000\n",
      "Epoch 88/200\n",
      "12/12 [==============================] - 0s 1ms/step - loss: 0.2174 - accuracy: 0.9286\n",
      "Epoch 89/200\n",
      "12/12 [==============================] - 0s 2ms/step - loss: 0.0501 - accuracy: 1.0000\n",
      "Epoch 90/200\n",
      "12/12 [==============================] - 0s 2ms/step - loss: 0.0478 - accuracy: 1.0000\n",
      "Epoch 91/200\n",
      "12/12 [==============================] - 0s 2ms/step - loss: 0.0725 - accuracy: 0.9821\n",
      "Epoch 92/200\n",
      "12/12 [==============================] - 0s 871us/step - loss: 0.0677 - accuracy: 0.9821\n",
      "Epoch 93/200\n",
      "12/12 [==============================] - 0s 2ms/step - loss: 0.0298 - accuracy: 1.0000\n",
      "Epoch 94/200\n",
      "12/12 [==============================] - 0s 1ms/step - loss: 0.0393 - accuracy: 1.0000\n",
      "Epoch 95/200\n",
      "12/12 [==============================] - 0s 945us/step - loss: 0.0852 - accuracy: 0.9643\n",
      "Epoch 96/200\n",
      "12/12 [==============================] - 0s 0s/step - loss: 0.0779 - accuracy: 0.9643\n",
      "Epoch 97/200\n",
      "12/12 [==============================] - 0s 0s/step - loss: 0.1351 - accuracy: 0.9643\n",
      "Epoch 98/200\n",
      "12/12 [==============================] - 0s 727us/step - loss: 0.0149 - accuracy: 1.0000\n",
      "Epoch 99/200\n",
      "12/12 [==============================] - 0s 739us/step - loss: 0.0769 - accuracy: 0.9821\n",
      "Epoch 100/200\n",
      "12/12 [==============================] - 0s 0s/step - loss: 0.0320 - accuracy: 1.0000\n",
      "Epoch 101/200\n",
      "12/12 [==============================] - 0s 1ms/step - loss: 0.0364 - accuracy: 1.0000\n",
      "Epoch 102/200\n",
      "12/12 [==============================] - 0s 1ms/step - loss: 0.0379 - accuracy: 1.0000\n",
      "Epoch 103/200\n",
      "12/12 [==============================] - 0s 1ms/step - loss: 0.0661 - accuracy: 0.9821\n",
      "Epoch 104/200\n",
      "12/12 [==============================] - 0s 1ms/step - loss: 0.0503 - accuracy: 0.9821\n",
      "Epoch 105/200\n",
      "12/12 [==============================] - 0s 1ms/step - loss: 0.0354 - accuracy: 1.0000\n",
      "Epoch 106/200\n",
      "12/12 [==============================] - 0s 1ms/step - loss: 0.0476 - accuracy: 1.0000\n",
      "Epoch 107/200\n",
      "12/12 [==============================] - 0s 735us/step - loss: 0.0497 - accuracy: 0.9643\n",
      "Epoch 108/200\n",
      "12/12 [==============================] - 0s 1ms/step - loss: 0.0660 - accuracy: 0.9643\n",
      "Epoch 109/200\n",
      "12/12 [==============================] - 0s 1ms/step - loss: 0.0400 - accuracy: 1.0000\n",
      "Epoch 110/200\n",
      "12/12 [==============================] - 0s 1ms/step - loss: 0.0512 - accuracy: 1.0000\n",
      "Epoch 111/200\n",
      "12/12 [==============================] - 0s 1ms/step - loss: 0.1176 - accuracy: 0.9821\n",
      "Epoch 112/200\n",
      "12/12 [==============================] - 0s 1ms/step - loss: 0.0527 - accuracy: 0.9821\n",
      "Epoch 113/200\n",
      "12/12 [==============================] - 0s 1ms/step - loss: 0.0230 - accuracy: 1.0000\n",
      "Epoch 114/200\n",
      "12/12 [==============================] - 0s 1ms/step - loss: 0.1501 - accuracy: 0.9643\n",
      "Epoch 115/200\n",
      "12/12 [==============================] - 0s 1ms/step - loss: 0.1179 - accuracy: 0.9643\n",
      "Epoch 116/200\n",
      "12/12 [==============================] - 0s 1ms/step - loss: 0.1030 - accuracy: 0.9821\n",
      "Epoch 117/200\n",
      "12/12 [==============================] - 0s 1ms/step - loss: 0.0702 - accuracy: 0.9821\n",
      "Epoch 118/200\n",
      "12/12 [==============================] - 0s 1ms/step - loss: 0.0438 - accuracy: 1.0000\n",
      "Epoch 119/200\n",
      "12/12 [==============================] - 0s 1ms/step - loss: 0.0471 - accuracy: 0.9821\n",
      "Epoch 120/200\n",
      "12/12 [==============================] - 0s 1ms/step - loss: 0.0906 - accuracy: 0.9821\n",
      "Epoch 121/200\n",
      "12/12 [==============================] - 0s 1ms/step - loss: 0.0516 - accuracy: 0.9821\n",
      "Epoch 122/200\n",
      "12/12 [==============================] - 0s 2ms/step - loss: 0.0119 - accuracy: 1.0000\n",
      "Epoch 123/200\n",
      "12/12 [==============================] - 0s 2ms/step - loss: 0.0393 - accuracy: 1.0000\n",
      "Epoch 124/200\n",
      "12/12 [==============================] - 0s 1ms/step - loss: 0.0974 - accuracy: 0.9464\n",
      "Epoch 125/200\n",
      "12/12 [==============================] - 0s 1ms/step - loss: 0.0398 - accuracy: 1.0000\n",
      "Epoch 126/200\n",
      "12/12 [==============================] - 0s 1ms/step - loss: 0.0188 - accuracy: 1.0000\n",
      "Epoch 127/200\n",
      "12/12 [==============================] - 0s 1ms/step - loss: 0.1132 - accuracy: 0.9464\n",
      "Epoch 128/200\n",
      "12/12 [==============================] - 0s 1ms/step - loss: 0.0224 - accuracy: 1.0000\n",
      "Epoch 129/200\n",
      "12/12 [==============================] - 0s 1ms/step - loss: 0.0428 - accuracy: 1.0000\n",
      "Epoch 130/200\n",
      "12/12 [==============================] - 0s 1ms/step - loss: 0.0491 - accuracy: 0.9821\n",
      "Epoch 131/200\n",
      "12/12 [==============================] - 0s 1ms/step - loss: 0.0171 - accuracy: 1.0000\n",
      "Epoch 132/200\n",
      "12/12 [==============================] - 0s 1ms/step - loss: 0.0340 - accuracy: 1.0000\n",
      "Epoch 133/200\n",
      "12/12 [==============================] - 0s 1ms/step - loss: 0.1087 - accuracy: 0.9643\n",
      "Epoch 134/200\n",
      "12/12 [==============================] - 0s 1ms/step - loss: 0.0425 - accuracy: 0.9821\n",
      "Epoch 135/200\n",
      "12/12 [==============================] - 0s 1ms/step - loss: 0.0368 - accuracy: 1.0000\n",
      "Epoch 136/200\n",
      "12/12 [==============================] - 0s 1ms/step - loss: 0.0134 - accuracy: 1.0000\n",
      "Epoch 137/200\n",
      "12/12 [==============================] - 0s 0s/step - loss: 0.0262 - accuracy: 0.9821\n",
      "Epoch 138/200\n",
      "12/12 [==============================] - 0s 4ms/step - loss: 0.0510 - accuracy: 0.9821\n",
      "Epoch 139/200\n",
      "12/12 [==============================] - 0s 1ms/step - loss: 0.0107 - accuracy: 1.0000\n",
      "Epoch 140/200\n",
      "12/12 [==============================] - 0s 1ms/step - loss: 0.0201 - accuracy: 1.0000\n",
      "Epoch 141/200\n",
      "12/12 [==============================] - 0s 1ms/step - loss: 0.0593 - accuracy: 0.9643\n",
      "Epoch 142/200\n",
      "12/12 [==============================] - 0s 1ms/step - loss: 0.0208 - accuracy: 1.0000\n",
      "Epoch 143/200\n",
      "12/12 [==============================] - 0s 1ms/step - loss: 0.0304 - accuracy: 1.0000\n",
      "Epoch 144/200\n",
      "12/12 [==============================] - 0s 1ms/step - loss: 0.0268 - accuracy: 1.0000\n",
      "Epoch 145/200\n",
      "12/12 [==============================] - 0s 1ms/step - loss: 0.0367 - accuracy: 1.0000\n",
      "Epoch 146/200\n",
      "12/12 [==============================] - 0s 1ms/step - loss: 0.0191 - accuracy: 1.0000\n",
      "Epoch 147/200\n",
      "12/12 [==============================] - 0s 1ms/step - loss: 0.0255 - accuracy: 1.0000\n",
      "Epoch 148/200\n",
      "12/12 [==============================] - 0s 1ms/step - loss: 0.0368 - accuracy: 1.0000\n",
      "Epoch 149/200\n",
      "12/12 [==============================] - 0s 1ms/step - loss: 0.0235 - accuracy: 1.0000\n",
      "Epoch 150/200\n",
      "12/12 [==============================] - 0s 1ms/step - loss: 0.0359 - accuracy: 0.9821\n",
      "Epoch 151/200\n",
      "12/12 [==============================] - 0s 1ms/step - loss: 0.0547 - accuracy: 0.9643\n",
      "Epoch 152/200\n",
      "12/12 [==============================] - 0s 1ms/step - loss: 0.0242 - accuracy: 1.0000\n",
      "Epoch 153/200\n",
      "12/12 [==============================] - 0s 1ms/step - loss: 0.0291 - accuracy: 1.0000\n",
      "Epoch 154/200\n",
      "12/12 [==============================] - 0s 1ms/step - loss: 0.0352 - accuracy: 1.0000\n",
      "Epoch 155/200\n",
      "12/12 [==============================] - 0s 1ms/step - loss: 0.0085 - accuracy: 1.0000\n",
      "Epoch 156/200\n",
      "12/12 [==============================] - 0s 1ms/step - loss: 0.0174 - accuracy: 1.0000\n",
      "Epoch 157/200\n",
      "12/12 [==============================] - 0s 1ms/step - loss: 0.0208 - accuracy: 1.0000\n",
      "Epoch 158/200\n",
      "12/12 [==============================] - 0s 1ms/step - loss: 0.0367 - accuracy: 0.9821\n",
      "Epoch 159/200\n",
      "12/12 [==============================] - 0s 1ms/step - loss: 0.0132 - accuracy: 1.0000\n",
      "Epoch 160/200\n",
      "12/12 [==============================] - 0s 1ms/step - loss: 0.0214 - accuracy: 1.0000\n",
      "Epoch 161/200\n",
      "12/12 [==============================] - 0s 1ms/step - loss: 0.0342 - accuracy: 0.9821\n",
      "Epoch 162/200\n",
      "12/12 [==============================] - 0s 1ms/step - loss: 0.0216 - accuracy: 1.0000\n",
      "Epoch 163/200\n",
      "12/12 [==============================] - 0s 1ms/step - loss: 0.0493 - accuracy: 0.9643\n",
      "Epoch 164/200\n",
      "12/12 [==============================] - 0s 1ms/step - loss: 0.0553 - accuracy: 1.0000\n",
      "Epoch 165/200\n",
      "12/12 [==============================] - 0s 1ms/step - loss: 0.0116 - accuracy: 1.0000\n",
      "Epoch 166/200\n",
      "12/12 [==============================] - 0s 1ms/step - loss: 0.0207 - accuracy: 1.0000\n",
      "Epoch 167/200\n",
      "12/12 [==============================] - 0s 1ms/step - loss: 0.0153 - accuracy: 1.0000\n",
      "Epoch 168/200\n",
      "12/12 [==============================] - 0s 1ms/step - loss: 0.0093 - accuracy: 1.0000\n",
      "Epoch 169/200\n",
      "12/12 [==============================] - 0s 1ms/step - loss: 0.0292 - accuracy: 1.0000\n",
      "Epoch 170/200\n",
      "12/12 [==============================] - 0s 1ms/step - loss: 0.0461 - accuracy: 0.9821\n",
      "Epoch 171/200\n",
      "12/12 [==============================] - 0s 1ms/step - loss: 0.0174 - accuracy: 1.0000\n",
      "Epoch 172/200\n",
      "12/12 [==============================] - 0s 1ms/step - loss: 0.0093 - accuracy: 1.0000\n",
      "Epoch 173/200\n",
      "12/12 [==============================] - 0s 1ms/step - loss: 0.0211 - accuracy: 1.0000\n",
      "Epoch 174/200\n",
      "12/12 [==============================] - 0s 1ms/step - loss: 0.0138 - accuracy: 1.0000\n",
      "Epoch 175/200\n",
      "12/12 [==============================] - 0s 1ms/step - loss: 0.0208 - accuracy: 1.0000\n",
      "Epoch 176/200\n",
      "12/12 [==============================] - 0s 853us/step - loss: 0.0276 - accuracy: 1.0000\n",
      "Epoch 177/200\n",
      "12/12 [==============================] - 0s 1ms/step - loss: 0.0182 - accuracy: 1.0000\n",
      "Epoch 178/200\n",
      "12/12 [==============================] - 0s 1ms/step - loss: 0.0351 - accuracy: 1.0000\n",
      "Epoch 179/200\n",
      "12/12 [==============================] - 0s 1ms/step - loss: 0.0229 - accuracy: 1.0000\n",
      "Epoch 180/200\n",
      "12/12 [==============================] - 0s 1ms/step - loss: 0.0604 - accuracy: 0.9821\n",
      "Epoch 181/200\n",
      "12/12 [==============================] - 0s 1ms/step - loss: 0.0288 - accuracy: 1.0000\n",
      "Epoch 182/200\n",
      "12/12 [==============================] - 0s 1ms/step - loss: 0.0084 - accuracy: 1.0000\n",
      "Epoch 183/200\n",
      "12/12 [==============================] - 0s 1ms/step - loss: 0.0177 - accuracy: 1.0000\n",
      "Epoch 184/200\n",
      "12/12 [==============================] - 0s 1ms/step - loss: 0.0257 - accuracy: 1.0000\n",
      "Epoch 185/200\n",
      "12/12 [==============================] - 0s 1ms/step - loss: 0.0458 - accuracy: 0.9821\n",
      "Epoch 186/200\n",
      "12/12 [==============================] - 0s 1ms/step - loss: 0.0236 - accuracy: 1.0000\n",
      "Epoch 187/200\n",
      "12/12 [==============================] - 0s 1ms/step - loss: 0.0509 - accuracy: 0.9821\n",
      "Epoch 188/200\n",
      "12/12 [==============================] - 0s 1ms/step - loss: 0.0300 - accuracy: 1.0000\n",
      "Epoch 189/200\n",
      "12/12 [==============================] - 0s 0s/step - loss: 0.0385 - accuracy: 0.9821\n",
      "Epoch 190/200\n",
      "12/12 [==============================] - 0s 0s/step - loss: 0.0314 - accuracy: 0.9821 \n",
      "Epoch 191/200\n",
      "12/12 [==============================] - 0s 0s/step - loss: 0.0172 - accuracy: 1.0000\n",
      "Epoch 192/200\n",
      "12/12 [==============================] - 0s 0s/step - loss: 0.0109 - accuracy: 1.0000\n",
      "Epoch 193/200\n",
      "12/12 [==============================] - 0s 1ms/step - loss: 0.0067 - accuracy: 1.0000\n",
      "Epoch 194/200\n",
      "12/12 [==============================] - 0s 1ms/step - loss: 0.0201 - accuracy: 1.0000\n",
      "Epoch 195/200\n",
      "12/12 [==============================] - 0s 1ms/step - loss: 0.0250 - accuracy: 0.9821\n",
      "Epoch 196/200\n",
      "12/12 [==============================] - 0s 1ms/step - loss: 0.0303 - accuracy: 1.0000\n",
      "Epoch 197/200\n",
      "12/12 [==============================] - 0s 1ms/step - loss: 0.0160 - accuracy: 1.0000\n",
      "Epoch 198/200\n",
      "12/12 [==============================] - 0s 1ms/step - loss: 0.0332 - accuracy: 1.0000\n",
      "Epoch 199/200\n",
      "12/12 [==============================] - 0s 1ms/step - loss: 0.0145 - accuracy: 1.0000\n",
      "Epoch 200/200\n",
      "12/12 [==============================] - 0s 1ms/step - loss: 0.0370 - accuracy: 0.9821\n",
      "model created\n"
     ]
    },
    {
     "name": "stderr",
     "output_type": "stream",
     "text": [
      "C:\\Users\\ROHIT\\AppData\\Roaming\\Python\\Python311\\site-packages\\keras\\src\\engine\\training.py:3103: UserWarning: You are saving your model as an HDF5 file via `model.save()`. This file format is considered legacy. We recommend using instead the native Keras format, e.g. `model.save('my_model.keras')`.\n",
      "  saving_api.save_model(\n"
     ]
    }
   ],
   "source": [
    "# Create model - 3 layers. First layer 128 neurons, second layer 64 neurons and 3rd output layer contains number of neurons\n",
    "# equal to number of intents to predict output intent with softmax\n",
    "model = Sequential()\n",
    "model.add(Dense(128, input_shape=(len(train_x[0]),), activation='relu'))\n",
    "model.add(Dropout(0.5))\n",
    "model.add(Dense(64, activation='relu'))\n",
    "model.add(Dropout(0.5))\n",
    "model.add(Dense(len(train_y[0]), activation='softmax'))\n",
    "\n",
    "# Compile model. Stochastic gradient descent with Nesterov accelerated gradient gives good results for this model\n",
    "sgd = SGD(learning_rate=0.01, momentum=0.9, nesterov=True)\n",
    "model.compile(loss='categorical_crossentropy', optimizer=sgd, metrics=['accuracy'])\n",
    "\n",
    "#fitting and saving the model\n",
    "hist = model.fit(np.array(train_x), np.array(train_y), epochs=200, batch_size=5, verbose=1)\n",
    "model.save('chatbot_model.h5', hist)\n",
    "\n",
    "print(\"model created\")"
   ]
  },
  {
   "cell_type": "code",
   "execution_count": 44,
   "metadata": {},
   "outputs": [
    {
     "name": "stderr",
     "output_type": "stream",
     "text": [
      "[nltk_data] Downloading package punkt to\n",
      "[nltk_data]     C:\\Users\\ROHIT\\AppData\\Roaming\\nltk_data...\n",
      "[nltk_data]   Package punkt is already up-to-date!\n",
      "[nltk_data] Downloading package wordnet to\n",
      "[nltk_data]     C:\\Users\\ROHIT\\AppData\\Roaming\\nltk_data...\n",
      "[nltk_data]   Package wordnet is already up-to-date!\n"
     ]
    }
   ],
   "source": [
    "import nltk\n",
    "import numpy as np\n",
    "from keras.models import load_model\n",
    "\n",
    "nltk.download('punkt')\n",
    "nltk.download('wordnet')\n",
    "from nltk.stem import WordNetLemmatizer\n",
    "\n",
    "# Load the trained model\n",
    "model = load_model('D:\\Final Year Project\\Learnings\\Frontend_Backend\\chatbot_model.h5')\n",
    "\n",
    "# Load preprocessed data (words and categories)\n",
    "import pickle\n",
    "words = pickle.load(open('D:\\Final Year Project\\Learnings\\Frontend_Backend\\words.pkl', 'rb'))\n",
    "categories = pickle.load(open('D:\\Final Year Project\\Learnings\\Frontend_Backend\\categories.pkl', 'rb'))\n",
    "\n",
    "lemmatizer = WordNetLemmatizer()\n",
    "\n",
    "def clean_up_sentence(sentence):\n",
    "    sentence_words = nltk.word_tokenize(sentence)\n",
    "    sentence_words = [lemmatizer.lemmatize(word.lower()) for word in sentence_words]\n",
    "    return sentence_words\n",
    "\n",
    "def bow(sentence, words, show_details=True):\n",
    "    sentence_words = clean_up_sentence(sentence)\n",
    "    bag = [0]*len(words)\n",
    "    for s in sentence_words:\n",
    "        for i, w in enumerate(words):\n",
    "            if w == s:\n",
    "                bag[i] = 1\n",
    "                if show_details:\n",
    "                    print(\"found in bag: %s\" % w)\n",
    "    return(np.array(bag))\n",
    "\n",
    "def predict_class(sentence, model):\n",
    "    p = bow(sentence, words, show_details=False)\n",
    "    res = model.predict(np.array([p]))[0]\n",
    "    ERROR_THRESHOLD = 0.25\n",
    "    results = [[i, r] for i, r in enumerate(res) if r > ERROR_THRESHOLD]\n",
    "\n",
    "    results.sort(key=lambda x: x[1], reverse=True)\n",
    "    return_list = []\n",
    "    for r in results:\n",
    "        return_list.append({\"intent\": categories[r[0]], \"probability\": str(r[1])})\n",
    "    return return_list\n",
    "\n",
    "def get_response(intents_list, intents_json):\n",
    "    tag = intents_list[0]['intent']\n",
    "    list_of_intents = intents_json['intents']\n",
    "    for i in list_of_intents:\n",
    "        if i['tag'] == tag:\n",
    "            result = random.choice(i['responses'])\n",
    "            break\n",
    "    return result\n",
    "\n",
    "def chatbot_response(user_input):\n",
    "    intents = predict_class(user_input, model)\n",
    "    response = get_response(intents, intents_json)\n",
    "    return response\n"
   ]
  },
  {
   "cell_type": "code",
   "execution_count": 45,
   "metadata": {},
   "outputs": [],
   "source": [
    "import json\n",
    "\n",
    "# Load your intents JSON file\n",
    "with open('D:\\Final Year Project\\Learnings\\Frontend_Backend\\Chabotdataset.json', 'r') as file:\n",
    "    intents_json = json.load(file)\n"
   ]
  },
  {
   "cell_type": "code",
   "execution_count": 46,
   "metadata": {},
   "outputs": [
    {
     "name": "stdout",
     "output_type": "stream",
     "text": [
      " * Serving Flask app '__main__'\n",
      " * Debug mode: off\n"
     ]
    },
    {
     "name": "stderr",
     "output_type": "stream",
     "text": [
      "WARNING: This is a development server. Do not use it in a production deployment. Use a production WSGI server instead.\n",
      " * Running on http://127.0.0.1:5000\n",
      "Press CTRL+C to quit\n"
     ]
    },
    {
     "name": "stdout",
     "output_type": "stream",
     "text": [
      "1/1 [==============================] - 0s 60ms/step\n"
     ]
    },
    {
     "name": "stderr",
     "output_type": "stream",
     "text": [
      "127.0.0.1 - - [27/Dec/2023 15:43:14] \"POST /chatbot HTTP/1.1\" 200 -\n"
     ]
    },
    {
     "name": "stdout",
     "output_type": "stream",
     "text": [
      "User: Hello\n",
      "Chatbot: Hi there, how can I help?\n"
     ]
    },
    {
     "name": "stderr",
     "output_type": "stream",
     "text": [
      "127.0.0.1 - - [27/Dec/2023 15:43:21] \"POST /chatbot HTTP/1.1\" 200 -\n"
     ]
    },
    {
     "name": "stdout",
     "output_type": "stream",
     "text": [
      "User: bye\n",
      "Chatbot: Chatbot: Goodbye!\n",
      "1/1 [==============================] - 0s 68ms/step\n"
     ]
    },
    {
     "name": "stderr",
     "output_type": "stream",
     "text": [
      "127.0.0.1 - - [27/Dec/2023 15:43:31] \"POST /chatbot HTTP/1.1\" 200 -\n"
     ]
    },
    {
     "name": "stdout",
     "output_type": "stream",
     "text": [
      "User: hello\n",
      "Chatbot: Good to see you again\n"
     ]
    },
    {
     "name": "stderr",
     "output_type": "stream",
     "text": [
      "127.0.0.1 - - [27/Dec/2023 15:43:37] \"POST /chatbot HTTP/1.1\" 200 -\n"
     ]
    },
    {
     "name": "stdout",
     "output_type": "stream",
     "text": [
      "User: Bye\n",
      "Chatbot: Chatbot: Goodbye!\n"
     ]
    },
    {
     "name": "stderr",
     "output_type": "stream",
     "text": [
      "127.0.0.1 - - [27/Dec/2023 16:03:41] \"POST /chatbot HTTP/1.1\" 200 -\n"
     ]
    },
    {
     "name": "stdout",
     "output_type": "stream",
     "text": [
      "User: Bye\n",
      "Chatbot: Chatbot: Goodbye!\n",
      "1/1 [==============================] - 0s 98ms/step\n"
     ]
    },
    {
     "name": "stderr",
     "output_type": "stream",
     "text": [
      "127.0.0.1 - - [27/Dec/2023 16:04:10] \"POST /chatbot HTTP/1.1\" 200 -\n"
     ]
    },
    {
     "name": "stdout",
     "output_type": "stream",
     "text": [
      "User: \n",
      "Chatbot: Good to see you again\n",
      "1/1 [==============================] - 0s 105ms/step\n"
     ]
    },
    {
     "name": "stderr",
     "output_type": "stream",
     "text": [
      "127.0.0.1 - - [27/Dec/2023 16:05:06] \"POST /chatbot HTTP/1.1\" 200 -\n"
     ]
    },
    {
     "name": "stdout",
     "output_type": "stream",
     "text": [
      "User: \n",
      "Chatbot: Good to see you again\n",
      "1/1 [==============================] - 0s 113ms/step\n"
     ]
    },
    {
     "name": "stderr",
     "output_type": "stream",
     "text": [
      "127.0.0.1 - - [27/Dec/2023 16:06:04] \"POST /chatbot HTTP/1.1\" 200 -\n"
     ]
    },
    {
     "name": "stdout",
     "output_type": "stream",
     "text": [
      "User: \n",
      "Chatbot: Hi there, how can I help?\n",
      "1/1 [==============================] - 0s 107ms/step\n"
     ]
    },
    {
     "name": "stderr",
     "output_type": "stream",
     "text": [
      "127.0.0.1 - - [27/Dec/2023 16:06:39] \"POST /chatbot HTTP/1.1\" 200 -\n"
     ]
    },
    {
     "name": "stdout",
     "output_type": "stream",
     "text": [
      "User: \n",
      "Chatbot: Good to see you again\n",
      "1/1 [==============================] - 0s 57ms/step\n"
     ]
    },
    {
     "name": "stderr",
     "output_type": "stream",
     "text": [
      "127.0.0.1 - - [27/Dec/2023 16:07:25] \"POST /chatbot HTTP/1.1\" 200 -\n"
     ]
    },
    {
     "name": "stdout",
     "output_type": "stream",
     "text": [
      "User: \n",
      "Chatbot: Hi there, how can I help?\n",
      "1/1 [==============================] - 0s 49ms/step\n"
     ]
    },
    {
     "name": "stderr",
     "output_type": "stream",
     "text": [
      "127.0.0.1 - - [27/Dec/2023 16:08:52] \"POST /chatbot HTTP/1.1\" 200 -\n"
     ]
    },
    {
     "name": "stdout",
     "output_type": "stream",
     "text": [
      "User: \n",
      "Chatbot: Hello, thanks for asking\n",
      "1/1 [==============================] - 0s 47ms/step\n"
     ]
    },
    {
     "name": "stderr",
     "output_type": "stream",
     "text": [
      "127.0.0.1 - - [27/Dec/2023 16:10:15] \"POST /chatbot HTTP/1.1\" 200 -\n"
     ]
    },
    {
     "name": "stdout",
     "output_type": "stream",
     "text": [
      "User: \n",
      "Chatbot: Hi there, how can I help?\n",
      "1/1 [==============================] - 0s 51ms/step\n"
     ]
    },
    {
     "name": "stderr",
     "output_type": "stream",
     "text": [
      "127.0.0.1 - - [27/Dec/2023 16:10:51] \"POST /chatbot HTTP/1.1\" 200 -\n"
     ]
    },
    {
     "name": "stdout",
     "output_type": "stream",
     "text": [
      "User: \n",
      "Chatbot: Good to see you again\n",
      "1/1 [==============================] - 0s 49ms/step\n"
     ]
    },
    {
     "name": "stderr",
     "output_type": "stream",
     "text": [
      "127.0.0.1 - - [27/Dec/2023 16:12:43] \"POST /chatbot HTTP/1.1\" 200 -\n"
     ]
    },
    {
     "name": "stdout",
     "output_type": "stream",
     "text": [
      "User: \n",
      "Chatbot: Good to see you again\n",
      "1/1 [==============================] - 0s 65ms/step\n"
     ]
    },
    {
     "name": "stderr",
     "output_type": "stream",
     "text": [
      "127.0.0.1 - - [27/Dec/2023 16:12:51] \"POST /chatbot HTTP/1.1\" 200 -\n"
     ]
    },
    {
     "name": "stdout",
     "output_type": "stream",
     "text": [
      "User: \n",
      "Chatbot: Good to see you again\n",
      "1/1 [==============================] - 0s 140ms/step\n"
     ]
    },
    {
     "name": "stderr",
     "output_type": "stream",
     "text": [
      "127.0.0.1 - - [27/Dec/2023 16:12:57] \"POST /chatbot HTTP/1.1\" 200 -\n"
     ]
    },
    {
     "name": "stdout",
     "output_type": "stream",
     "text": [
      "User: \n",
      "Chatbot: Hello, thanks for asking\n",
      "1/1 [==============================] - 0s 122ms/step\n"
     ]
    },
    {
     "name": "stderr",
     "output_type": "stream",
     "text": [
      "127.0.0.1 - - [27/Dec/2023 16:13:24] \"POST /chatbot HTTP/1.1\" 200 -\n"
     ]
    },
    {
     "name": "stdout",
     "output_type": "stream",
     "text": [
      "User: \n",
      "Chatbot: Hi there, how can I help?\n",
      "1/1 [==============================] - 0s 122ms/step\n"
     ]
    },
    {
     "name": "stderr",
     "output_type": "stream",
     "text": [
      "127.0.0.1 - - [27/Dec/2023 16:13:33] \"POST /chatbot HTTP/1.1\" 200 -\n"
     ]
    },
    {
     "name": "stdout",
     "output_type": "stream",
     "text": [
      "User: \n",
      "Chatbot: Good to see you again\n",
      "1/1 [==============================] - 0s 63ms/step\n"
     ]
    },
    {
     "name": "stderr",
     "output_type": "stream",
     "text": [
      "127.0.0.1 - - [27/Dec/2023 16:13:40] \"POST /chatbot HTTP/1.1\" 200 -\n"
     ]
    },
    {
     "name": "stdout",
     "output_type": "stream",
     "text": [
      "User: \n",
      "Chatbot: Good to see you again\n",
      "1/1 [==============================] - 0s 51ms/step\n"
     ]
    },
    {
     "name": "stderr",
     "output_type": "stream",
     "text": [
      "127.0.0.1 - - [27/Dec/2023 16:14:09] \"POST /chatbot HTTP/1.1\" 200 -\n"
     ]
    },
    {
     "name": "stdout",
     "output_type": "stream",
     "text": [
      "User: \n",
      "Chatbot: Hello, thanks for asking\n",
      "1/1 [==============================] - 0s 68ms/step\n"
     ]
    },
    {
     "name": "stderr",
     "output_type": "stream",
     "text": [
      "127.0.0.1 - - [27/Dec/2023 16:17:51] \"POST /chatbot HTTP/1.1\" 200 -\n"
     ]
    },
    {
     "name": "stdout",
     "output_type": "stream",
     "text": [
      "User: \n",
      "Chatbot: Hi there, how can I help?\n",
      "1/1 [==============================] - 0s 115ms/step\n"
     ]
    },
    {
     "name": "stderr",
     "output_type": "stream",
     "text": [
      "127.0.0.1 - - [27/Dec/2023 16:17:57] \"POST /chatbot HTTP/1.1\" 200 -\n"
     ]
    },
    {
     "name": "stdout",
     "output_type": "stream",
     "text": [
      "User: \n",
      "Chatbot: Hello, thanks for asking\n",
      "1/1 [==============================] - 0s 25ms/step\n"
     ]
    },
    {
     "name": "stderr",
     "output_type": "stream",
     "text": [
      "127.0.0.1 - - [27/Dec/2023 16:22:03] \"POST /chatbot HTTP/1.1\" 200 -\n"
     ]
    },
    {
     "name": "stdout",
     "output_type": "stream",
     "text": [
      "User: \n",
      "Chatbot: Hello, thanks for asking\n",
      "1/1 [==============================] - 0s 62ms/step\n"
     ]
    },
    {
     "name": "stderr",
     "output_type": "stream",
     "text": [
      "127.0.0.1 - - [27/Dec/2023 16:53:26] \"POST /chatbot HTTP/1.1\" 200 -\n"
     ]
    },
    {
     "name": "stdout",
     "output_type": "stream",
     "text": [
      "User: \n",
      "Chatbot: Hi there, how can I help?\n",
      "1/1 [==============================] - 0s 62ms/step\n"
     ]
    },
    {
     "name": "stderr",
     "output_type": "stream",
     "text": [
      "127.0.0.1 - - [27/Dec/2023 16:53:36] \"POST /chatbot HTTP/1.1\" 200 -\n"
     ]
    },
    {
     "name": "stdout",
     "output_type": "stream",
     "text": [
      "User: \n",
      "Chatbot: Good to see you again\n"
     ]
    }
   ],
   "source": [
    "from flask import Flask, request, jsonify\n",
    "\n",
    "app = Flask(__name__)\n",
    "\n",
    "@app.route('/flask', methods=['GET'])\n",
    "def index():\n",
    "    return \"Flask server\"\n",
    "\n",
    "@app.route('/chatbot', methods=['POST'])\n",
    "def index1():\n",
    "    data = request.get_json()\n",
    "    user_input = data.get('user_input', '')\n",
    " \n",
    "    if user_input.lower() == 'bye':\n",
    "        response = \"Chatbot: Goodbye!\"\n",
    "    else:\n",
    "        response = chatbot_response(user_input)\n",
    "\n",
    "    print(\"User:\", user_input)\n",
    "    print(\"Chatbot:\", response)\n",
    "\n",
    "    return jsonify({\"response\": response})\n",
    "\n",
    "if __name__ == \"__main__\":\n",
    "    app.run(port=5000, debug=False)"
   ]
  },
  {
   "cell_type": "code",
   "execution_count": null,
   "metadata": {},
   "outputs": [],
   "source": []
  }
 ],
 "metadata": {
  "kernelspec": {
   "display_name": "Python 3",
   "language": "python",
   "name": "python3"
  },
  "language_info": {
   "codemirror_mode": {
    "name": "ipython",
    "version": 3
   },
   "file_extension": ".py",
   "mimetype": "text/x-python",
   "name": "python",
   "nbconvert_exporter": "python",
   "pygments_lexer": "ipython3",
   "version": "3.11.7"
  }
 },
 "nbformat": 4,
 "nbformat_minor": 2
}
